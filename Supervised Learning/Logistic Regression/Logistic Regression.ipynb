{
 "cells": [
  {
   "cell_type": "markdown",
   "id": "5eb92bb5",
   "metadata": {},
   "source": [
    "# Logistic Regression\n",
    "## Definition \n",
    "A statistical strategy for predicting binary classes is logistic regression. The result or goal variable is a binary variable. The term dichotomous refers to the fact that there are only two potential classifications. Using a logit function, logistic regression predicts the likelihood of a binary event occurring.\n",
    "\n",
    "![](https://encrypted-tbn0.gstatic.com/images?q=tbn:ANd9GcQMFvoMHABccfNgE2-0IQzuVhYci05TloJU4w&usqp=CAU)\n",
    "\n",
    "## Algorithm\n",
    "* Similar to linear regression, the logistic regression model computes a weighted sum of the input variables, but it then runs the result through a non-linear function called the logistic function or sigmoid function to get the output y. The output is binary, or in the form of 0/1 or -1/1 in this case.\n",
    "\n",
    "\\begin{aligned}\n",
    "z &= w_0 + w_1x_1 +  w_2x_2 + ...+w_n x_n\\\\\n",
    "\\hat y &= \\sigma(z) = \\frac{1}{1+e^{-z}}\n",
    "\\end{aligned}\n",
    "\n",
    "<img src=\"https://miro.medium.com/max/1838/0*bR5RIB1lKfj_vW2W.png\" width=\"600\" height=\"400\" />\n",
    "\n",
    "As the graph shows, the sigmoid functions is an S-shaped curve that grows closer to 1 as the input variable's value rises above 0 and becomes closer to 0 as the input variable's value decreases below 0. When the input variable is 0, the output of the sigmoid function is 0.5.\n",
    "\n",
    "\n",
    "* The dependent variable in logistic regression follows Bernoulli Distribution.\n",
    "\n",
    "$$p(y|x)=\\hat y^y(1-\\hat y)^{1-y}\\Rightarrow \n",
    "\\begin{cases}\n",
    "y=1  &\\rightarrow p(y|x)=\\hat y \\\\\n",
    "y=0 &\\rightarrow p(y|x)=1-\\hat y\n",
    "\\end{cases}\n",
    "$$\n",
    "\n",
    "* To get the best weights, we usually maximize the log-likelihood function (LLF) for all observations i = 1,..., n.\n",
    "\n",
    "$$LLF = log p(y|x)= y log\\hat y+ (1 − y) log(1 − \\hat y).$$\n",
    "\n",
    "Maximizing the above function is equivalent to minimize $-log p(y|x)= -y log\\hat y- (1 − y) log(1 − \\hat y).$\n",
    "\n",
    "## Steps\n",
    "* Randomly select x, y from the training data.\n",
    "\n",
    "* Feed-Forward into the neural network\n",
    "<img src=\"https://media5.datahacker.rs/2021/01/44.jpg\" width=\"600\" height=\"400\" />\n",
    "\n",
    "* Updates weights and bias with learning rate $\\alpha$\n",
    "\n",
    "    * $w_1\\Rightarrow w_1-\\alpha(y-\\hat y)x_1$\n",
    "    * $w_2\\Rightarrow w_2-\\alpha(y-\\hat y)x_2$\n",
    "    * $b\\Rightarrow b-\\alpha(y-\\hat y)$\n",
    "    \n",
    "* Repeat the above three steps until desired loss in-sample is reached or a maximimum number of steps is reached.\n",
    "\n",
    "## Data: Pima Indians Diabetes Database\n",
    "The National Institute of Diabetes and Digestive and Kidney Diseases provided this data. The goal of this dataset is to diagnose whether a patient has diabetes using diagnostic metrics provided in the collection. All of the patients at this clinic are Pima Indian women who are at least 21 years old. There are various medical predictor factors in the dataset, as well as one  binary target variable, **Outcome**. And the predictor variables are:\n",
    "* Pregnancies\n",
    "* Glucose\n",
    "* BloodPressure\n",
    "* SkinThickness\n",
    "* Insulin\n",
    "* BMI\n",
    "* DiabetesPedigreeFunction\n",
    "* Age\n",
    "\n",
    "## Package \n",
    "I will use the following packages in this project:\n",
    "* [matplotlib.pyplot](https://matplotlib.org/stable/api/_as_gen/matplotlib.pyplot.html)\n",
    "* [numpy](https://numpy.org)\n",
    "* [pandas](https://pandas.pydata.org)\n",
    "* [sklearn](https://scikit-learn.org/stable/)"
   ]
  },
  {
   "cell_type": "markdown",
   "id": "645fe60b",
   "metadata": {},
   "source": [
    "## Part One: Fitting a Logistic Regression model with in class code \n",
    "Firstly, I will Fit a Logistic Regression model with in class code to the Pima Indians Diabetes Data with two input vectors, **Glucose** and **BMI**."
   ]
  },
  {
   "cell_type": "code",
   "execution_count": 62,
   "id": "ec077d39",
   "metadata": {},
   "outputs": [],
   "source": [
    "import pandas as pd\n",
    "import numpy as np\n",
    "import matplotlib.pyplot as plt \n",
    "\n",
    "%matplotlib inline"
   ]
  },
  {
   "cell_type": "code",
   "execution_count": 63,
   "id": "3e8eca47",
   "metadata": {},
   "outputs": [
    {
     "data": {
      "text/html": [
       "<div>\n",
       "<style scoped>\n",
       "    .dataframe tbody tr th:only-of-type {\n",
       "        vertical-align: middle;\n",
       "    }\n",
       "\n",
       "    .dataframe tbody tr th {\n",
       "        vertical-align: top;\n",
       "    }\n",
       "\n",
       "    .dataframe thead th {\n",
       "        text-align: right;\n",
       "    }\n",
       "</style>\n",
       "<table border=\"1\" class=\"dataframe\">\n",
       "  <thead>\n",
       "    <tr style=\"text-align: right;\">\n",
       "      <th></th>\n",
       "      <th>Pregnancies</th>\n",
       "      <th>Glucose</th>\n",
       "      <th>BloodPressure</th>\n",
       "      <th>SkinThickness</th>\n",
       "      <th>Insulin</th>\n",
       "      <th>BMI</th>\n",
       "      <th>DiabetesPedigreeFunction</th>\n",
       "      <th>Age</th>\n",
       "      <th>Outcome</th>\n",
       "    </tr>\n",
       "  </thead>\n",
       "  <tbody>\n",
       "    <tr>\n",
       "      <th>0</th>\n",
       "      <td>6</td>\n",
       "      <td>148</td>\n",
       "      <td>72</td>\n",
       "      <td>35</td>\n",
       "      <td>0</td>\n",
       "      <td>33.6</td>\n",
       "      <td>0.627</td>\n",
       "      <td>50</td>\n",
       "      <td>1</td>\n",
       "    </tr>\n",
       "    <tr>\n",
       "      <th>1</th>\n",
       "      <td>1</td>\n",
       "      <td>85</td>\n",
       "      <td>66</td>\n",
       "      <td>29</td>\n",
       "      <td>0</td>\n",
       "      <td>26.6</td>\n",
       "      <td>0.351</td>\n",
       "      <td>31</td>\n",
       "      <td>0</td>\n",
       "    </tr>\n",
       "    <tr>\n",
       "      <th>2</th>\n",
       "      <td>8</td>\n",
       "      <td>183</td>\n",
       "      <td>64</td>\n",
       "      <td>0</td>\n",
       "      <td>0</td>\n",
       "      <td>23.3</td>\n",
       "      <td>0.672</td>\n",
       "      <td>32</td>\n",
       "      <td>1</td>\n",
       "    </tr>\n",
       "    <tr>\n",
       "      <th>3</th>\n",
       "      <td>1</td>\n",
       "      <td>89</td>\n",
       "      <td>66</td>\n",
       "      <td>23</td>\n",
       "      <td>94</td>\n",
       "      <td>28.1</td>\n",
       "      <td>0.167</td>\n",
       "      <td>21</td>\n",
       "      <td>0</td>\n",
       "    </tr>\n",
       "    <tr>\n",
       "      <th>4</th>\n",
       "      <td>0</td>\n",
       "      <td>137</td>\n",
       "      <td>40</td>\n",
       "      <td>35</td>\n",
       "      <td>168</td>\n",
       "      <td>43.1</td>\n",
       "      <td>2.288</td>\n",
       "      <td>33</td>\n",
       "      <td>1</td>\n",
       "    </tr>\n",
       "  </tbody>\n",
       "</table>\n",
       "</div>"
      ],
      "text/plain": [
       "   Pregnancies  Glucose  BloodPressure  SkinThickness  Insulin   BMI  \\\n",
       "0            6      148             72             35        0  33.6   \n",
       "1            1       85             66             29        0  26.6   \n",
       "2            8      183             64              0        0  23.3   \n",
       "3            1       89             66             23       94  28.1   \n",
       "4            0      137             40             35      168  43.1   \n",
       "\n",
       "   DiabetesPedigreeFunction  Age  Outcome  \n",
       "0                     0.627   50        1  \n",
       "1                     0.351   31        0  \n",
       "2                     0.672   32        1  \n",
       "3                     0.167   21        0  \n",
       "4                     2.288   33        1  "
      ]
     },
     "execution_count": 63,
     "metadata": {},
     "output_type": "execute_result"
    }
   ],
   "source": [
    "diabetes = pd.read_csv(\"diabetes.csv\")\n",
    "diabetes.head()"
   ]
  },
  {
   "cell_type": "code",
   "execution_count": 64,
   "id": "f49b257b",
   "metadata": {},
   "outputs": [],
   "source": [
    "X = diabetes[[\"Glucose\", \"BMI\"]].to_numpy()\n",
    "Y = diabetes[\"Outcome\"].to_numpy()"
   ]
  },
  {
   "cell_type": "markdown",
   "id": "3a5c5b92",
   "metadata": {},
   "source": [
    "### Min-Max Scaling\n",
    "The simplest approach, also known as min-max scaling or min-max normalization, consists of rescaling the range of features to scale the range in [0, 1] or [1, 1]. The goal range is determined by the data's type. The following is the general formula for a min-max of [0, 1]:\n",
    "$$x'={\\frac  {x-{\\text{min}}(x)}{{\\text{max}}(x)-{\\text{min}}(x)}}$$"
   ]
  },
  {
   "cell_type": "code",
   "execution_count": 65,
   "id": "98dd203e",
   "metadata": {},
   "outputs": [
    {
     "data": {
      "text/plain": [
       "array([[0.74371859, 0.50074516],\n",
       "       [0.42713568, 0.39642325],\n",
       "       [0.91959799, 0.34724292],\n",
       "       ...,\n",
       "       [0.6080402 , 0.390462  ],\n",
       "       [0.63316583, 0.4485842 ],\n",
       "       [0.46733668, 0.45305514]])"
      ]
     },
     "execution_count": 65,
     "metadata": {},
     "output_type": "execute_result"
    }
   ],
   "source": [
    "# X[:, 0] = X[:, 0]/np.linalg.norm(X[:, 0])\n",
    "# X[:, 1] = X[:, 1]/np.linalg.norm(X[:, 1])\n",
    "\n",
    "X[:, 0] = (X[:, 0] - np.min(X[:, 0]))/(np.max(X[:, 0] - np.min(X[:, 0])))\n",
    "X[:, 1] = (X[:, 1] - np.min(X[:, 1]))/(np.max(X[:, 1] - np.min(X[:, 1])))\n",
    "X"
   ]
  },
  {
   "cell_type": "markdown",
   "id": "7b3ed830",
   "metadata": {},
   "source": [
    "### Data Visualization\n"
   ]
  },
  {
   "cell_type": "code",
   "execution_count": 66,
   "id": "29f39588",
   "metadata": {},
   "outputs": [
    {
     "data": {
      "text/plain": [
       "Text(0, 0.5, 'BMI')"
      ]
     },
     "execution_count": 66,
     "metadata": {},
     "output_type": "execute_result"
    },
    {
     "data": {
      "image/png": "[encoded data removed]",
      "text/plain": [
       "<Figure size 720x432 with 1 Axes>"
      ]
     },
     "metadata": {
      "needs_background": "light"
     },
     "output_type": "display_data"
    }
   ],
   "source": [
    "plt.figure(figsize=(10, 6))\n",
    "plt.scatter(X[:, 0], X[:, 1], c = Y, marker = \"X\")\n",
    "plt.title(\"Pima Indians Diabetes Data Plot (Normalized)\")\n",
    "plt.xlabel(\"Glucose\")\n",
    "plt.ylabel(\"BMI\")"
   ]
  },
  {
   "cell_type": "code",
   "execution_count": 67,
   "id": "c5da462e",
   "metadata": {},
   "outputs": [
    {
     "data": {
      "image/png": "[encoded data removed]",
      "text/plain": [
       "<Figure size 720x432 with 1 Axes>"
      ]
     },
     "metadata": {
      "needs_background": "light"
     },
     "output_type": "display_data"
    }
   ],
   "source": [
    "plt.figure(figsize=(10, 6))\n",
    "plt.scatter(X[:, 0], Y, c = Y)\n",
    "plt.xlabel(\"Glucose\")\n",
    "plt.ylabel(\"Outcome\")\n",
    "plt.show()"
   ]
  },
  {
   "cell_type": "markdown",
   "id": "f55c3a15",
   "metadata": {},
   "source": [
    "### Sigmoid Function"
   ]
  },
  {
   "cell_type": "code",
   "execution_count": 68,
   "id": "43da9c55",
   "metadata": {},
   "outputs": [
    {
     "data": {
      "text/plain": [
       "Text(0, 0.5, 'sigma(z)')"
      ]
     },
     "execution_count": 68,
     "metadata": {},
     "output_type": "execute_result"
    },
    {
     "data": {
      "image/png": "[encoded data removed]",
      "text/plain": [
       "<Figure size 720x432 with 1 Axes>"
      ]
     },
     "metadata": {
      "needs_background": "light"
     },
     "output_type": "display_data"
    }
   ],
   "source": [
    "# define sigmoid, activation function\n",
    "def sigmoid(z):\n",
    "    return 1.0/(1.0 + np.exp(-z))\n",
    "def sigmoid(z):\n",
    "    return 1.0/(1.0 + np.exp(-z))\n",
    "\n",
    "domain = np.arange(-10, 10, .25)\n",
    "plt.figure(figsize=(10, 6))\n",
    "plt.plot(domain, sigmoid(domain),linestyle='-.', color = \"chocolate\")\n",
    "plt.title(\"Sigmoid Function Plot\")\n",
    "plt.xlabel(\"z\")\n",
    "plt.ylabel(\"sigma(z)\")"
   ]
  },
  {
   "cell_type": "code",
   "execution_count": 69,
   "id": "77ed9546",
   "metadata": {},
   "outputs": [
    {
     "data": {
      "text/plain": [
       "0.6931471805599453"
      ]
     },
     "execution_count": 69,
     "metadata": {},
     "output_type": "execute_result"
    }
   ],
   "source": [
    "# Define the cross entropy loss function\n",
    "def cross_entropy_loss(y, y_hat):\n",
    "    return -y*np.log(y_hat) - (1.0-y)*np.log(1.0-y_hat)\n",
    "cross_entropy_loss(1.0, .5)"
   ]
  },
  {
   "cell_type": "code",
   "execution_count": 70,
   "id": "7ffaf960",
   "metadata": {},
   "outputs": [],
   "source": [
    "# Updates weights and bias \n",
    "def cross_entropy_gradient(y, y_hat, x, with_bias = True):\n",
    "    if with_bias == True:\n",
    "        dw = (y_hat - y)*x\n",
    "        db = (y_hat - y)\n",
    "        return dw, db \n",
    "\n",
    "# Function of y_hat\n",
    "def feed_forward(x, w, b, with_bias = True):\n",
    "    if with_bias == True:\n",
    "        return sigmoid(w @ x + b)       "
   ]
  },
  {
   "cell_type": "code",
   "execution_count": 71,
   "id": "806da269",
   "metadata": {},
   "outputs": [
    {
     "data": {
      "text/plain": [
       "0.18388331934365923"
      ]
     },
     "execution_count": 71,
     "metadata": {},
     "output_type": "execute_result"
    }
   ],
   "source": [
    "w = np.random.randn(2)# Set initial weights and bias \n",
    "b = np.random.randn()# Set initial bias \n",
    "alpha = 0.25 # Learning rate\n",
    "feed_forward(X[0], w, b)"
   ]
  },
  {
   "cell_type": "code",
   "execution_count": 72,
   "id": "819beffb",
   "metadata": {},
   "outputs": [
    {
     "name": "stdout",
     "output_type": "stream",
     "text": [
      "Total Loss at time 1 = 564.4645661149965\n",
      "Total Loss at time 1001 = 416.28193825938433\n",
      "Total Loss at time 2001 = 396.47526513958496\n",
      "Total Loss at time 3001 = 390.2550265527343\n",
      "Total Loss at time 4001 = 387.8175577823557\n",
      "Total Loss at time 5001 = 386.73887038482263\n",
      "Total Loss at time 6001 = 386.22652745977126\n",
      "Total Loss at time 7001 = 385.97254692484233\n",
      "Total Loss at time 8001 = 385.84323054924283\n",
      "Total Loss at time 9001 = 385.7762438501605\n"
     ]
    }
   ],
   "source": [
    "# Implement Stochastic Gradient Descent Implement Stochastic Gradient Descent. \n",
    "# Iterate 10,000 times and record the loss.\n",
    "for j in range(10_000):\n",
    "    i = np.random.randint(len(Y))\n",
    "    x = X[i, :]\n",
    "    y = Y[i]\n",
    "    temp_dw = []\n",
    "    temp_db = []\n",
    "    for x, y in zip(X, Y):\n",
    "        y_hat = feed_forward(x, w, b)\n",
    "        dw, db = cross_entropy_gradient(y, y_hat, x)\n",
    "        #w -= alpha*dw\n",
    "        #b -= alpha*db\n",
    "        temp_dw.append(dw)\n",
    "        temp_db.append(db)\n",
    "        \n",
    "    dw = sum(temp_dw)/len(temp_dw)\n",
    "    db = sum(temp_db)/len(temp_db)\n",
    "    w -= alpha*dw\n",
    "    b -= alpha*db\n",
    "    \n",
    "    total_loss = sum(cross_entropy_loss(Y[i], feed_forward(x, w, b))\n",
    "                    for i, x in enumerate(X))\n",
    "    if j % 1_000 == 0:\n",
    "        print(f\"Total Loss at time {j+1} = {total_loss}\")"
   ]
  },
  {
   "cell_type": "code",
   "execution_count": 73,
   "id": "99e5ab14",
   "metadata": {},
   "outputs": [],
   "source": [
    "# Define the prediction function. \n",
    "def make_prediction(x, w, b):\n",
    "    y_hat = feed_forward(x, w, b)\n",
    "    labels = np.array([1, 0])\n",
    "    return np.random.choice(labels, p = [y_hat, 1.0-y_hat])"
   ]
  },
  {
   "cell_type": "code",
   "execution_count": 74,
   "id": "fa01d286",
   "metadata": {},
   "outputs": [
    {
     "name": "stdout",
     "output_type": "stream",
     "text": [
      "Classification Percentage = 66.40625%\n"
     ]
    }
   ],
   "source": [
    "hits = 0\n",
    "for x, y in zip(X, Y):\n",
    "    y_hat = make_prediction(x, w, b)\n",
    "    hits += int(y_hat == y)\n",
    "    # print(f\"Prediction: {y_hat}\")\n",
    "    # print(f\"True label: {y}\")\n",
    "    # print()\n",
    "print(f\"Classification Percentage = {100* (hits/len(Y))}%\")"
   ]
  },
  {
   "cell_type": "markdown",
   "id": "9e6fa15a",
   "metadata": {},
   "source": [
    "The accuracy of our prediction is 66.4%, which is lower than the in class example 85%. Let's try another scaling method."
   ]
  },
  {
   "cell_type": "markdown",
   "id": "4f2687cf",
   "metadata": {},
   "source": [
    "### Unit-Length Scaling\n",
    "Another option that is widely used in machine-learning is to scale the components of a feature vector such that the complete vector has length one. This usually means dividing each component by the Euclidean length of the vector:\n",
    "$$ x' = \\frac{x}{\\Vert x \\Vert}$$"
   ]
  },
  {
   "cell_type": "code",
   "execution_count": 75,
   "id": "9a00b552",
   "metadata": {},
   "outputs": [],
   "source": [
    "diabetes = pd.read_csv(\"diabetes.csv\")\n",
    "X = diabetes[[\"Glucose\", \"BMI\"]].to_numpy()\n",
    "Y = diabetes[\"Outcome\"].to_numpy()"
   ]
  },
  {
   "cell_type": "code",
   "execution_count": 76,
   "id": "22343a60",
   "metadata": {},
   "outputs": [
    {
     "data": {
      "text/plain": [
       "array([[0.04270834, 0.03679789],\n",
       "       [0.02452844, 0.02913166],\n",
       "       [0.05280828, 0.02551759],\n",
       "       ...,\n",
       "       [0.03491695, 0.02869359],\n",
       "       [0.0363598 , 0.03296478],\n",
       "       [0.02683699, 0.03329333]])"
      ]
     },
     "execution_count": 76,
     "metadata": {},
     "output_type": "execute_result"
    }
   ],
   "source": [
    "X[:, 0] = X[:, 0]/np.linalg.norm(X[:, 0])\n",
    "X[:, 1] = X[:, 1]/np.linalg.norm(X[:, 1])\n",
    "\n",
    "# X[:, 0] = (X[:, 0] - np.min(X[:, 0]))/(np.max(X[:, 0] - np.min(X[:, 0])))\n",
    "# X[:, 1] = (X[:, 1] - np.min(X[:, 1]))/(np.max(X[:, 1] - np.min(X[:, 1])))\n",
    "X"
   ]
  },
  {
   "cell_type": "code",
   "execution_count": 77,
   "id": "dfb815c2",
   "metadata": {},
   "outputs": [
    {
     "name": "stdout",
     "output_type": "stream",
     "text": [
      "Total Loss at time 1 = 1823.5214203026783\n",
      "Total Loss at time 1001 = 480.49557006185245\n",
      "Total Loss at time 2001 = 479.5978198525749\n",
      "Total Loss at time 3001 = 478.70991405691484\n",
      "Total Loss at time 4001 = 477.8317394458004\n",
      "Total Loss at time 5001 = 476.9631838263163\n",
      "Total Loss at time 6001 = 476.10413604654633\n",
      "Total Loss at time 7001 = 475.2544859997305\n",
      "Total Loss at time 8001 = 474.4141246277479\n",
      "Total Loss at time 9001 = 473.58294392394424\n"
     ]
    }
   ],
   "source": [
    "for j in range(10_000):\n",
    "    i = np.random.randint(len(Y))\n",
    "    x = X[i, :]\n",
    "    y = Y[i]\n",
    "    temp_dw = []\n",
    "    temp_db = []\n",
    "    for x, y in zip(X, Y):\n",
    "        y_hat = feed_forward(x, w, b)\n",
    "        dw, db = cross_entropy_gradient(y, y_hat, x)\n",
    "        #w -= alpha*dw\n",
    "        #b -= alpha*db\n",
    "        temp_dw.append(dw)\n",
    "        temp_db.append(db)\n",
    "        \n",
    "    dw = sum(temp_dw)/len(temp_dw)\n",
    "    db = sum(temp_db)/len(temp_db)\n",
    "    w -= alpha*dw\n",
    "    b -= alpha*db\n",
    "    \n",
    "    total_loss = sum(cross_entropy_loss(Y[i], feed_forward(x, w, b))\n",
    "                    for i, x in enumerate(X))\n",
    "    if j % 1_000 == 0:\n",
    "        print(f\"Total Loss at time {j+1} = {total_loss}\")"
   ]
  },
  {
   "cell_type": "code",
   "execution_count": 78,
   "id": "8b66f36a",
   "metadata": {},
   "outputs": [
    {
     "name": "stdout",
     "output_type": "stream",
     "text": [
      "Classification Percentage = 57.421875%\n"
     ]
    }
   ],
   "source": [
    "hits = 0\n",
    "for x, y in zip(X, Y):\n",
    "    y_hat = make_prediction(x, w, b)\n",
    "    hits += int(y_hat == y)\n",
    "    # print(f\"Prediction: {y_hat}\")\n",
    "    # print(f\"True label: {y}\")\n",
    "    # print()\n",
    "print(f\"Classification Percentage = {100* (hits/len(Y))}%\")"
   ]
  },
  {
   "cell_type": "markdown",
   "id": "7740da20",
   "metadata": {},
   "source": [
    "With Unit-Length Scaling method, the accuracy of our prediction becomes smaller. The loss of the 10,000 iterations is also larger than min-max scaling method."
   ]
  },
  {
   "cell_type": "markdown",
   "id": "2ec26073",
   "metadata": {},
   "source": [
    "## Part Two: Fitting a Logistic Regression model using Scikit-Learn Function \n",
    "\n",
    "Then, I will fit a Logistic Regression model with Scikit-learn function to the Pima Indians Diabetes Data with two input vectors, **Glucose** and **BMI**."
   ]
  },
  {
   "cell_type": "code",
   "execution_count": 48,
   "id": "ca25d3bf",
   "metadata": {},
   "outputs": [],
   "source": [
    "from sklearn.linear_model import LogisticRegression\n",
    "from sklearn.metrics import classification_report, confusion_matrix"
   ]
  },
  {
   "cell_type": "markdown",
   "id": "0f2d044e",
   "metadata": {},
   "source": [
    "Using [train_test_split](https://scikit-learn.org/stable/modules/generated/sklearn.model_selection.train_test_split.html) in sklearn.model_selection to split the dataset into the training set and test set."
   ]
  },
  {
   "cell_type": "code",
   "execution_count": 49,
   "id": "b53d88ab",
   "metadata": {},
   "outputs": [],
   "source": [
    "from sklearn.model_selection import train_test_split\n",
    "X_train, X_test, y_train, y_test = train_test_split(X, Y, test_size=0.25, random_state=42)"
   ]
  },
  {
   "cell_type": "markdown",
   "id": "862b8862",
   "metadata": {},
   "source": [
    "Using [LogisticRegression](https://scikit-learn.org/stable/modules/generated/sklearn.linear_model.LogisticRegression.html) to create a model and train it."
   ]
  },
  {
   "cell_type": "code",
   "execution_count": 79,
   "id": "04469074",
   "metadata": {},
   "outputs": [
    {
     "data": {
      "text/plain": [
       "LogisticRegression(random_state=0, solver='liblinear')"
      ]
     },
     "execution_count": 79,
     "metadata": {},
     "output_type": "execute_result"
    }
   ],
   "source": [
    "# Create a Model and Train It\n",
    "model = LogisticRegression(solver='liblinear', random_state=0)\n",
    "model.fit(X_train, y_train)"
   ]
  },
  {
   "cell_type": "code",
   "execution_count": 80,
   "id": "85d08517",
   "metadata": {},
   "outputs": [
    {
     "data": {
      "text/plain": [
       "array([0, 0, 0, 0, 0, 0, 0, 0, 1, 0, 0, 1, 0, 0, 0, 0, 0, 0, 1, 1, 0, 0,\n",
       "       0, 0, 0, 1, 0, 0, 0, 0, 1, 1, 1, 1, 0, 1, 1, 0, 0, 0, 0, 0, 0, 0,\n",
       "       0, 1, 0, 0, 0, 1, 0, 0, 0, 0, 0, 0, 1, 0, 0, 1, 1, 0, 0, 0, 0, 1,\n",
       "       0, 1, 0, 1, 1, 0, 0, 0, 0, 0, 0, 0, 0, 0, 1, 0, 0, 0, 0, 1, 1, 0,\n",
       "       0, 0, 0, 0, 0, 0, 0, 1, 0, 0, 1, 0, 1, 0, 0, 1, 1, 0, 0, 1, 0, 0,\n",
       "       0, 1, 0, 1, 0, 0, 1, 0, 0, 0, 0, 0, 0, 0, 0, 0, 0, 1, 1, 1, 1, 1,\n",
       "       0, 0, 1, 0, 0, 1, 1, 0, 0, 0, 0, 1, 0, 0, 0, 0, 0, 1, 0, 0, 0, 0,\n",
       "       0, 0, 0, 0, 1, 0, 0, 0, 0, 0, 0, 1, 0, 0, 1, 0, 0, 0, 0, 1, 1, 0,\n",
       "       0, 0, 0, 0, 0, 1, 0, 1, 0, 0, 0, 0, 1, 0, 0, 0])"
      ]
     },
     "execution_count": 80,
     "metadata": {},
     "output_type": "execute_result"
    }
   ],
   "source": [
    "# obtain the predicted outputs \n",
    "model.predict(X_test)"
   ]
  },
  {
   "cell_type": "code",
   "execution_count": 81,
   "id": "ed9611db",
   "metadata": {},
   "outputs": [
    {
     "data": {
      "text/plain": [
       "0.734375"
      ]
     },
     "execution_count": 81,
     "metadata": {},
     "output_type": "execute_result"
    }
   ],
   "source": [
    "# obtain the accuracy\n",
    "model.score(X_test, y_test)"
   ]
  },
  {
   "cell_type": "markdown",
   "id": "1edbd458",
   "metadata": {},
   "source": [
    "### Confusion Matrix\n",
    "A confusion matrix can provide extra information about the model's accuracy. When it comes to binary categorization, the confusion matrix displays the following numbers:\n",
    "* True negatives in the upper-left position\n",
    "* False negatives in the lower-left position\n",
    "* False positives in the upper-right position\n",
    "* True positives in the lower-right position\n"
   ]
  },
  {
   "cell_type": "code",
   "execution_count": 82,
   "id": "6d95d0e5",
   "metadata": {},
   "outputs": [],
   "source": [
    "#  create the confusion matrix\n",
    "cm = confusion_matrix(y_test, model.predict(X_test))"
   ]
  },
  {
   "cell_type": "code",
   "execution_count": 83,
   "id": "5087e1fc",
   "metadata": {},
   "outputs": [
    {
     "data": {
      "image/png": "[encoded data removed]",
      "text/plain": [
       "<Figure size 576x576 with 1 Axes>"
      ]
     },
     "metadata": {
      "needs_background": "light"
     },
     "output_type": "display_data"
    }
   ],
   "source": [
    "fig, ax = plt.subplots(figsize=(8, 8))\n",
    "ax.imshow(cm)\n",
    "ax.grid(False)\n",
    "ax.xaxis.set(ticks=(0, 1), ticklabels=('Predicted 0s', 'Predicted 1s'))\n",
    "ax.yaxis.set(ticks=(0, 1), ticklabels=('Actual 0s', 'Actual 1s'))\n",
    "ax.set_ylim(1.5, -0.5)\n",
    "for i in range(2):\n",
    "    for j in range(2):\n",
    "        ax.text(j, i, cm[i, j], ha='center', va='center', color='red')\n",
    "plt.show()"
   ]
  },
  {
   "cell_type": "code",
   "execution_count": 84,
   "id": "a2121e33",
   "metadata": {},
   "outputs": [
    {
     "name": "stdout",
     "output_type": "stream",
     "text": [
      "              precision    recall  f1-score   support\n",
      "\n",
      "           0       0.75      0.87      0.81       123\n",
      "           1       0.68      0.49      0.57        69\n",
      "\n",
      "    accuracy                           0.73       192\n",
      "   macro avg       0.72      0.68      0.69       192\n",
      "weighted avg       0.73      0.73      0.72       192\n",
      "\n"
     ]
    }
   ],
   "source": [
    "print(classification_report(y_test, model.predict(X_test)))"
   ]
  },
  {
   "cell_type": "markdown",
   "id": "afcf1dfb",
   "metadata": {},
   "source": [
    "## Reference \n",
    "Python, R. (n.d.). Logistic Regression In Python – Real Python. Logistic Regression in Python – Real Python. https://realpython.com/logistic-regression-python/#logistic-regression-overview."
   ]
  }
 ],
 "metadata": {
  "kernelspec": {
   "display_name": "Python 3",
   "language": "python",
   "name": "python3"
  },
  "language_info": {
   "codemirror_mode": {
    "name": "ipython",
    "version": 3
   },
   "file_extension": ".py",
   "mimetype": "text/x-python",
   "name": "python",
   "nbconvert_exporter": "python",
   "pygments_lexer": "ipython3",
   "version": "3.8.8"
  }
 },
 "nbformat": 4,
 "nbformat_minor": 5
}
