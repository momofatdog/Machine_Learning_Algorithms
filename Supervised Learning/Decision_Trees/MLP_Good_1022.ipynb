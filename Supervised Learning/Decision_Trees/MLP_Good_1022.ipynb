{
 "cells": [
  {
   "cell_type": "code",
   "execution_count": null,
   "metadata": {
    "colab": {
     "base_uri": "https://localhost:8080/"
    },
    "executionInfo": {
     "elapsed": 3731,
     "status": "ok",
     "timestamp": 1634926502680,
     "user": {
      "displayName": "Randy Davila",
      "photoUrl": "https://lh3.googleusercontent.com/a/default-user=s64",
      "userId": "04004781324880742972"
     },
     "user_tz": 300
    },
    "id": "Y9uAkNhNk8rR",
    "outputId": "aad3414c-d2ea-4aee-f4f3-ea832f8cc251"
   },
   "outputs": [],
   "source": [
    "from tensorflow import keras\n",
    "import numpy as np\n",
    "import matplotlib.pyplot as plt\n",
    "\n",
    "from keras.datasets import mnist\n",
    "\n",
    "(train_X, train_y), (test_X, test_y) = mnist.load_data()"
   ]
  },
  {
   "cell_type": "code",
   "execution_count": null,
   "metadata": {
    "colab": {
     "base_uri": "https://localhost:8080/"
    },
    "executionInfo": {
     "elapsed": 13,
     "status": "ok",
     "timestamp": 1634926502681,
     "user": {
      "displayName": "Randy Davila",
      "photoUrl": "https://lh3.googleusercontent.com/a/default-user=s64",
      "userId": "04004781324880742972"
     },
     "user_tz": 300
    },
    "id": "DLMr5GoLoXOX",
    "outputId": "15f1a8c9-b0b2-4dbb-ad78-b4e5abc5e436"
   },
   "outputs": [],
   "source": [
    "train_X.shape"
   ]
  },
  {
   "cell_type": "code",
   "execution_count": 1,
   "metadata": {
    "colab": {
     "base_uri": "https://localhost:8080/"
    },
    "executionInfo": {
     "elapsed": 6,
     "status": "ok",
     "timestamp": 1634926502681,
     "user": {
      "displayName": "Randy Davila",
      "photoUrl": "https://lh3.googleusercontent.com/a/default-user=s64",
      "userId": "04004781324880742972"
     },
     "user_tz": 300
    },
    "id": "NnmX7oVroqnB",
    "outputId": "37dccbe2-aa3b-4c0c-bada-2ee71ae4f667"
   },
   "outputs": [],
   "source": [
    "train_X[0].shape"
   ]
  },
  {
   "cell_type": "code",
   "execution_count": null,
   "metadata": {
    "colab": {
     "base_uri": "https://localhost:8080/"
    },
    "executionInfo": {
     "elapsed": 6,
     "status": "ok",
     "timestamp": 1634926502682,
     "user": {
      "displayName": "Randy Davila",
      "photoUrl": "https://lh3.googleusercontent.com/a/default-user=s64",
      "userId": "04004781324880742972"
     },
     "user_tz": 300
    },
    "id": "_2Bn_HlOouLx",
    "outputId": "122e2509-e1e4-4358-aa72-f7f291b9f396"
   },
   "outputs": [],
   "source": [
    "train_y[0]"
   ]
  },
  {
   "cell_type": "code",
   "execution_count": 5,
   "metadata": {
    "colab": {
     "base_uri": "https://localhost:8080/",
     "height": 282
    },
    "executionInfo": {
     "elapsed": 454,
     "status": "ok",
     "timestamp": 1634926507482,
     "user": {
      "displayName": "Randy Davila",
      "photoUrl": "https://lh3.googleusercontent.com/a/default-user=s64",
      "userId": "04004781324880742972"
     },
     "user_tz": 300
    },
    "id": "U500A41Goxyw",
    "outputId": "bb23dfa7-d3c1-41bd-ecde-86d267f2f2a8"
   },
   "outputs": [
    {
     "data": {
      "text/plain": [
       "<matplotlib.image.AxesImage at 0x7fe96bf30990>"
      ]
     },
     "execution_count": 5,
     "metadata": {},
     "output_type": "execute_result"
    },
    {
     "data": {
      "image/png": "[encoded data removed]",
      "text/plain": [
       "<Figure size 432x288 with 1 Axes>"
      ]
     },
     "metadata": {
      "needs_background": "light"
     },
     "output_type": "display_data"
    }
   ],
   "source": [
    "plt.imshow(train_X[0], cmap=\"gray\")"
   ]
  },
  {
   "cell_type": "code",
   "execution_count": null,
   "metadata": {
    "colab": {
     "base_uri": "https://localhost:8080/"
    },
    "executionInfo": {
     "elapsed": 172,
     "status": "ok",
     "timestamp": 1634753682361,
     "user": {
      "displayName": "Randy Davila",
      "photoUrl": "https://lh3.googleusercontent.com/a/default-user=s64",
      "userId": "04004781324880742972"
     },
     "user_tz": 300
    },
    "id": "MNQ2bm7oo2mx",
    "outputId": "5418774a-32dd-4a13-e8bf-7617e34c5114"
   },
   "outputs": [
    {
     "data": {
      "text/plain": [
       "255"
      ]
     },
     "execution_count": 6,
     "metadata": {},
     "output_type": "execute_result"
    }
   ],
   "source": [
    "np.max(train_X)"
   ]
  },
  {
   "cell_type": "code",
   "execution_count": null,
   "metadata": {
    "id": "3mAE2bI2o-BB"
   },
   "outputs": [],
   "source": [
    "train_X = train_X/255\n",
    "test_X = test_X/255"
   ]
  },
  {
   "cell_type": "code",
   "execution_count": null,
   "metadata": {
    "colab": {
     "base_uri": "https://localhost:8080/"
    },
    "executionInfo": {
     "elapsed": 160,
     "status": "ok",
     "timestamp": 1634753685772,
     "user": {
      "displayName": "Randy Davila",
      "photoUrl": "https://lh3.googleusercontent.com/a/default-user=s64",
      "userId": "04004781324880742972"
     },
     "user_tz": 300
    },
    "id": "LCz44XiPpQLx",
    "outputId": "b37cb0c9-b1ee-4724-8b75-33cbf298276f"
   },
   "outputs": [
    {
     "data": {
      "text/plain": [
       "(28, 28)"
      ]
     },
     "execution_count": 8,
     "metadata": {},
     "output_type": "execute_result"
    }
   ],
   "source": [
    "test_X[0].shape"
   ]
  },
  {
   "cell_type": "code",
   "execution_count": 6,
   "metadata": {
    "executionInfo": {
     "elapsed": 364,
     "status": "ok",
     "timestamp": 1634926786221,
     "user": {
      "displayName": "Randy Davila",
      "photoUrl": "https://lh3.googleusercontent.com/a/default-user=s64",
      "userId": "04004781324880742972"
     },
     "user_tz": 300
    },
    "id": "FW-IrQORpSLw"
   },
   "outputs": [],
   "source": [
    "# X will temp store flattened matrices\n",
    "X = []\n",
    "for x in train_X:\n",
    "  X.append(x.flatten().reshape(784, 1))\n",
    "\n",
    "# Y will temp store one-hot encoded label vectors\n",
    "Y = []\n",
    "for y in train_y:\n",
    "  temp_vec = np.zeros((10, 1))\n",
    "  temp_vec[y][0] = 1.0\n",
    "  Y.append(temp_vec)\n",
    "\n",
    "# Our data will be stored as a list of tuples. \n",
    "train_data = [p for p in zip(X, Y)]"
   ]
  },
  {
   "cell_type": "code",
   "execution_count": null,
   "metadata": {
    "colab": {
     "base_uri": "https://localhost:8080/"
    },
    "executionInfo": {
     "elapsed": 180,
     "status": "ok",
     "timestamp": 1634753992658,
     "user": {
      "displayName": "Randy Davila",
      "photoUrl": "https://lh3.googleusercontent.com/a/default-user=s64",
      "userId": "04004781324880742972"
     },
     "user_tz": 300
    },
    "id": "90JMH_S57bih",
    "outputId": "c25b6b6c-2832-4226-b63c-e09c2eae8ffc"
   },
   "outputs": [
    {
     "name": "stdout",
     "output_type": "stream",
     "text": [
      "[[0.]\n",
      " [0.]\n",
      " [0.]\n",
      " [0.]\n",
      " [0.]\n",
      " [1.]\n",
      " [0.]\n",
      " [0.]\n",
      " [0.]\n",
      " [0.]]\n",
      "5\n"
     ]
    }
   ],
   "source": [
    "p = train_data[0]\n",
    "print(p[1])\n",
    "print(train_y[0])"
   ]
  },
  {
   "cell_type": "code",
   "execution_count": 8,
   "metadata": {
    "executionInfo": {
     "elapsed": 193,
     "status": "ok",
     "timestamp": 1634927318743,
     "user": {
      "displayName": "Randy Davila",
      "photoUrl": "https://lh3.googleusercontent.com/a/default-user=s64",
      "userId": "04004781324880742972"
     },
     "user_tz": 300
    },
    "id": "KcZIVltbp_vv"
   },
   "outputs": [],
   "source": [
    "X = []\n",
    "for x in test_X:\n",
    "  X.append(x.flatten().reshape(784, 1))\n",
    "\n",
    "Y = []\n",
    "for y in test_y:\n",
    "  temp_vec = np.zeros((10, 1))\n",
    "  temp_vec[y][0] = 1.0\n",
    "  Y.append(temp_vec)\n",
    "\n",
    "test_data = [p for p in zip(X, Y)]"
   ]
  },
  {
   "cell_type": "code",
   "execution_count": null,
   "metadata": {
    "id": "uQ2RvMV5qJsu"
   },
   "outputs": [],
   "source": [
    "def sigmoid(z):\n",
    "  return 1.0/(1.0+np.exp(-z))\n",
    "\n",
    "def sigmoid_prime(z):\n",
    "  return sigmoid(z)*(1.0-sigmoid(z))\n",
    "\n",
    "def mse(a, y):\n",
    "  return .5*sum((a[i]-y[i])**2 for i in range(10))[0]\n",
    "  "
   ]
  },
  {
   "cell_type": "code",
   "execution_count": null,
   "metadata": {
    "id": "c7iB08AIrCbc"
   },
   "outputs": [],
   "source": [
    "def initialize_weights(layers = [784, 60, 60, 10]):\n",
    "  W = [[0.0]]\n",
    "  B = [[0.0]]\n",
    "  for i in range(1, len(layers)):\n",
    "    w_temp = np.random.randn(layers[i], layers[i-1])*np.sqrt(2/layers[i-1])\n",
    "    b_temp = np.random.randn(layers[i], 1)*np.sqrt(2/layers[i-1])\n",
    "\n",
    "    W.append(w_temp)\n",
    "    B.append(b_temp)\n",
    "  return W, B"
   ]
  },
  {
   "cell_type": "code",
   "execution_count": null,
   "metadata": {
    "id": "2NrwX_wRrEx8"
   },
   "outputs": [],
   "source": [
    "W, B = initialize_weights()"
   ]
  },
  {
   "cell_type": "code",
   "execution_count": null,
   "metadata": {
    "id": "m1Xn3ZXJrN57"
   },
   "outputs": [],
   "source": [
    "x, y = train_data[0]"
   ]
  },
  {
   "cell_type": "code",
   "execution_count": null,
   "metadata": {
    "id": "G1cBt3SotSqZ"
   },
   "outputs": [],
   "source": [
    "a0 = x\n",
    "z1 = (W[1] @ a0) + B[1]\n",
    "a1 = sigmoid(z1)"
   ]
  },
  {
   "cell_type": "code",
   "execution_count": null,
   "metadata": {
    "colab": {
     "base_uri": "https://localhost:8080/"
    },
    "executionInfo": {
     "elapsed": 135,
     "status": "ok",
     "timestamp": 1634754639918,
     "user": {
      "displayName": "Randy Davila",
      "photoUrl": "https://lh3.googleusercontent.com/a/default-user=s64",
      "userId": "04004781324880742972"
     },
     "user_tz": 300
    },
    "id": "6dflUcRI-BpL",
    "outputId": "184f98f2-0b2e-4235-8e38-20b0fd47202c"
   },
   "outputs": [
    {
     "data": {
      "text/plain": [
       "(60, 1)"
      ]
     },
     "execution_count": 27,
     "metadata": {},
     "output_type": "execute_result"
    }
   ],
   "source": [
    "a1.shape"
   ]
  },
  {
   "cell_type": "code",
   "execution_count": null,
   "metadata": {
    "colab": {
     "base_uri": "https://localhost:8080/"
    },
    "executionInfo": {
     "elapsed": 112,
     "status": "ok",
     "timestamp": 1634754663845,
     "user": {
      "displayName": "Randy Davila",
      "photoUrl": "https://lh3.googleusercontent.com/a/default-user=s64",
      "userId": "04004781324880742972"
     },
     "user_tz": 300
    },
    "id": "89DswyFrtiT5",
    "outputId": "0df99a11-eec2-4aec-fff6-5a0eeca1bd08"
   },
   "outputs": [
    {
     "name": "stdout",
     "output_type": "stream",
     "text": [
      "(60, 1)\n"
     ]
    }
   ],
   "source": [
    "z2 = (W[2] @ a1) + B[2]\n",
    "a2 = sigmoid(z2)\n",
    "print(a2.shape)"
   ]
  },
  {
   "cell_type": "code",
   "execution_count": null,
   "metadata": {
    "colab": {
     "base_uri": "https://localhost:8080/"
    },
    "executionInfo": {
     "elapsed": 120,
     "status": "ok",
     "timestamp": 1634754683578,
     "user": {
      "displayName": "Randy Davila",
      "photoUrl": "https://lh3.googleusercontent.com/a/default-user=s64",
      "userId": "04004781324880742972"
     },
     "user_tz": 300
    },
    "id": "7uB0Mk4otizq",
    "outputId": "9db8a59e-3f9b-4425-ceec-1aa9f32ff3c9"
   },
   "outputs": [
    {
     "name": "stdout",
     "output_type": "stream",
     "text": [
      "(10, 1)\n"
     ]
    }
   ],
   "source": [
    "z3 = (W[3] @ a2) + B[3]\n",
    "a3 = sigmoid(z3)\n",
    "print(a3.shape)"
   ]
  },
  {
   "cell_type": "code",
   "execution_count": null,
   "metadata": {
    "id": "HdrA_7UOt5DX"
   },
   "outputs": [],
   "source": [
    "W, B = initialize_weights(layers=[784, 60, 60, 10])\n",
    "x, y = train_data[0]\n",
    "Z = [[0.0]]\n",
    "A = [x]\n",
    "L = len(B)\n",
    "for i in range(1, L):\n",
    "  z = (W[i] @ A[i-1]) + B[i]\n",
    "  a = sigmoid(z)\n",
    "\n",
    "  Z.append(z)\n",
    "  A.append(a)\n"
   ]
  },
  {
   "cell_type": "code",
   "execution_count": null,
   "metadata": {
    "colab": {
     "base_uri": "https://localhost:8080/"
    },
    "executionInfo": {
     "elapsed": 139,
     "status": "ok",
     "timestamp": 1634755074502,
     "user": {
      "displayName": "Randy Davila",
      "photoUrl": "https://lh3.googleusercontent.com/a/default-user=s64",
      "userId": "04004781324880742972"
     },
     "user_tz": 300
    },
    "id": "Qb0DO1EhurnG",
    "outputId": "a0384ed5-05f3-45b0-f815-5af2f5793749"
   },
   "outputs": [
    {
     "data": {
      "text/plain": [
       "(10, 1)"
      ]
     },
     "execution_count": 32,
     "metadata": {},
     "output_type": "execute_result"
    }
   ],
   "source": [
    "A[-1].shape"
   ]
  },
  {
   "cell_type": "code",
   "execution_count": null,
   "metadata": {
    "id": "3jAcb248uswW"
   },
   "outputs": [],
   "source": [
    "deltas = dict()\n",
    "delta_last = (A[-1] - y)*sigmoid_prime(Z[-1])\n",
    "deltas[L-1] = delta_last"
   ]
  },
  {
   "cell_type": "code",
   "execution_count": null,
   "metadata": {
    "colab": {
     "base_uri": "https://localhost:8080/"
    },
    "executionInfo": {
     "elapsed": 137,
     "status": "ok",
     "timestamp": 1634755507470,
     "user": {
      "displayName": "Randy Davila",
      "photoUrl": "https://lh3.googleusercontent.com/a/default-user=s64",
      "userId": "04004781324880742972"
     },
     "user_tz": 300
    },
    "id": "UZ7zYBAHBWDd",
    "outputId": "a92736fc-23f7-4fee-9e11-9bfe18175944"
   },
   "outputs": [
    {
     "data": {
      "text/plain": [
       "array([[ 0.12740729],\n",
       "       [ 0.12863681],\n",
       "       [ 0.13534015],\n",
       "       [ 0.11457396],\n",
       "       [ 0.12588229],\n",
       "       [-0.13969548],\n",
       "       [ 0.13404539],\n",
       "       [ 0.12762145],\n",
       "       [ 0.14770409],\n",
       "       [ 0.1275306 ]])"
      ]
     },
     "execution_count": 34,
     "metadata": {},
     "output_type": "execute_result"
    }
   ],
   "source": [
    "deltas[L-1]"
   ]
  },
  {
   "cell_type": "code",
   "execution_count": null,
   "metadata": {
    "id": "3M5rIEebvg90"
   },
   "outputs": [],
   "source": [
    "for l in range(L-2, 0, -1):\n",
    "  deltas[l] = (W[l+1].T @ deltas[l+1])*sigmoid_prime(Z[l])"
   ]
  },
  {
   "cell_type": "code",
   "execution_count": null,
   "metadata": {
    "colab": {
     "base_uri": "https://localhost:8080/"
    },
    "executionInfo": {
     "elapsed": 155,
     "status": "ok",
     "timestamp": 1634755709238,
     "user": {
      "displayName": "Randy Davila",
      "photoUrl": "https://lh3.googleusercontent.com/a/default-user=s64",
      "userId": "04004781324880742972"
     },
     "user_tz": 300
    },
    "id": "ms6IMLOIvhqW",
    "outputId": "ae83445f-a131-4d9a-a689-d8613bc2cecd"
   },
   "outputs": [
    {
     "data": {
      "text/plain": [
       "(60, 1)"
      ]
     },
     "execution_count": 40,
     "metadata": {},
     "output_type": "execute_result"
    }
   ],
   "source": [
    "deltas[1].shape"
   ]
  },
  {
   "cell_type": "code",
   "execution_count": null,
   "metadata": {
    "id": "wDGqFoFQwTqE"
   },
   "outputs": [],
   "source": [
    "alpha = 0.04"
   ]
  },
  {
   "cell_type": "code",
   "execution_count": null,
   "metadata": {
    "id": "HKCHpDeVwgtj"
   },
   "outputs": [],
   "source": [
    "for i in range(1, 4):\n",
    "  W[i] = W[i] - alpha*deltas[i]@A[i-1].T\n",
    "  B[i] = B[i] - alpha*deltas[i]"
   ]
  },
  {
   "cell_type": "code",
   "execution_count": null,
   "metadata": {
    "id": "K8mHDPhiwxC0"
   },
   "outputs": [],
   "source": [
    "def forward_pass(W, B, p, predict_vector = False):\n",
    "  Z =[[0.0]]\n",
    "  A = [p[0]]\n",
    "  L = len(W)\n",
    "  for i in range(1, L):\n",
    "    z = (W[i] @ A[i-1]) + B[i]\n",
    "    a = sigmoid(z)\n",
    "\n",
    "    Z.append(z)\n",
    "    A.append(a)\n",
    "\n",
    "  if predict_vector == True:\n",
    "    return A[-1]\n",
    "  else:\n",
    "    return Z, A\n",
    "\n",
    "def deltas_dict(W, B, p):\n",
    "  Z, A = forward_pass(W, B, p)\n",
    "  L = len(W)\n",
    "  deltas = dict()\n",
    "  deltas[L-1] = (A[-1] - p[1])*sigmoid_prime(Z[-1])\n",
    "  for l in range(L-2, 0, -1):\n",
    "    deltas[l] = (W[l+1].T @ deltas[l+1]) * sigmoid_prime(Z[l])\n",
    "\n",
    "  return A, deltas\n"
   ]
  },
  {
   "cell_type": "code",
   "execution_count": null,
   "metadata": {
    "id": "nayiEoIVyepQ"
   },
   "outputs": [],
   "source": [
    "def MSE(W, B, data):\n",
    "  c = 0.0\n",
    "  for p in data:\n",
    "    a = forward_pass(W, B, p, predict_vector=True)\n",
    "    c += mse(a, p[1])\n",
    "  return c/len(data)\n"
   ]
  },
  {
   "cell_type": "code",
   "execution_count": null,
   "metadata": {
    "colab": {
     "base_uri": "https://localhost:8080/"
    },
    "executionInfo": {
     "elapsed": 8034,
     "status": "ok",
     "timestamp": 1634755960854,
     "user": {
      "displayName": "Randy Davila",
      "photoUrl": "https://lh3.googleusercontent.com/a/default-user=s64",
      "userId": "04004781324880742972"
     },
     "user_tz": 300
    },
    "id": "jF7uMRvUzO3w",
    "outputId": "561d156f-0aef-41f3-dd22-cd8755a25f75"
   },
   "outputs": [
    {
     "name": "stdout",
     "output_type": "stream",
     "text": [
      "Initial Cost = 1.236358145434175\n"
     ]
    }
   ],
   "source": [
    "W, B = initialize_weights()\n",
    "print(f\"Initial Cost = {MSE(W, B, train_data)}\")"
   ]
  },
  {
   "cell_type": "code",
   "execution_count": null,
   "metadata": {
    "colab": {
     "base_uri": "https://localhost:8080/",
     "height": 301
    },
    "executionInfo": {
     "elapsed": 286,
     "status": "ok",
     "timestamp": 1634756522086,
     "user": {
      "displayName": "Randy Davila",
      "photoUrl": "https://lh3.googleusercontent.com/a/default-user=s64",
      "userId": "04004781324880742972"
     },
     "user_tz": 300
    },
    "id": "jioHLhRrzcow",
    "outputId": "a1683e18-4f4d-4b24-ef13-4c946ad441f7"
   },
   "outputs": [
    {
     "name": "stdout",
     "output_type": "stream",
     "text": [
      "Predicted Value = 6\n",
      "Actual Value = 6\n"
     ]
    },
    {
     "data": {
      "image/png": "[encoded data removed]",
      "text/plain": [
       "<Figure size 432x288 with 1 Axes>"
      ]
     },
     "metadata": {
      "needs_background": "light"
     },
     "output_type": "display_data"
    }
   ],
   "source": [
    "i = np.random.randint(0, len(test_X))\n",
    "prediction = np.argmax(forward_pass(W, B, test_data[i], predict_vector=True))\n",
    "print(f\"Predicted Value = {prediction}\")\n",
    "print(f\"Actual Value = {test_y[i]}\")\n",
    "plt.imshow(test_X[i], cmap=\"gray\")\n",
    "plt.show()"
   ]
  },
  {
   "cell_type": "code",
   "execution_count": null,
   "metadata": {
    "colab": {
     "base_uri": "https://localhost:8080/"
    },
    "executionInfo": {
     "elapsed": 134624,
     "status": "ok",
     "timestamp": 1634756445200,
     "user": {
      "displayName": "Randy Davila",
      "photoUrl": "https://lh3.googleusercontent.com/a/default-user=s64",
      "userId": "04004781324880742972"
     },
     "user_tz": 300
    },
    "id": "F-Ggl8gj0VW-",
    "outputId": "38e7bcc8-8dfa-4271-fecf-4ed0d3a09d30"
   },
   "outputs": [
    {
     "name": "stdout",
     "output_type": "stream",
     "text": [
      "Initial Cost = 1.236358145434175\n",
      "0 Cost = 0.073262139511606\n",
      "1 Cost = 0.05121238644688733\n",
      "2 Cost = 0.04057871606085493\n"
     ]
    }
   ],
   "source": [
    "def stochastic_gradient_descent(W, B, data, alpha = 0.04, epochs = 3):\n",
    "  L = len(W)\n",
    "  print(f\"Initial Cost = {MSE(W, B, data)}\")\n",
    "  for k in range(epochs):\n",
    "    for p in data:\n",
    "      A, deltas = deltas_dict(W, B, p)\n",
    "      for i in range(1, L):\n",
    "        W[i] = W[i] - alpha*deltas[i]@A[i-1].T\n",
    "        B[i] = B[i] - alpha*deltas[i]\n",
    "    print(f\"{k} Cost = {MSE(W, B, data)}\")\n",
    "\n"
   ]
  },
  {
   "cell_type": "code",
   "execution_count": null,
   "metadata": {
    "id": "WCsZvETL0fk-"
   },
   "outputs": [],
   "source": [
    "\n",
    "class MultilayerPerceptron():\n",
    "  \n",
    "  def __init__(self, layers = [784, 60, 60, 10]):\n",
    "    self.layers = layers\n",
    "    self.L = len(self.layers)\n",
    "    self.W =[[0.0]]\n",
    "    self.B = [[0.0]]\n",
    "    for i in range(1, self.L):\n",
    "      w_temp = np.random.randn(self.layers[i], self.layers[i-1])*np.sqrt(2/self.layers[i-1])\n",
    "      b_temp = np.random.randn(self.layers[i], 1)*np.sqrt(2/self.layers[i-1])\n",
    "\n",
    "      self.W.append(w_temp)\n",
    "      self.B.append(b_temp)\n",
    "\n",
    "  def reset_weights(self, layers = [784, 60, 60, 10]):\n",
    "    self.layers = layers\n",
    "    self.L = len(self.layers)\n",
    "    self.W = [[0.0]]\n",
    "    self.B = [[0.0]]\n",
    "    for i in range(1, self.L):\n",
    "      w_temp = np.random.randn(self.layers[i], self.layers[i-1])*np.sqrt(2/self.layers[i-1])\n",
    "      b_temp = np.random.randn(self.layers[i], 1)*np.sqrt(2/self.layers[i-1])\n",
    "\n",
    "      self.W.append(w_temp)\n",
    "      self.B.append(b_temp)\n",
    "\n",
    "\n",
    "  def forward_pass(self, p, predict_vector = False):\n",
    "    Z =[[0.0]]\n",
    "    A = [p[0]]\n",
    "    for i in range(1, self.L):\n",
    "      z = (self.W[i] @ A[i-1]) + self.B[i]\n",
    "      a = sigmoid(z)\n",
    "      Z.append(z)\n",
    "      A.append(a)\n",
    "\n",
    "    if predict_vector == True:\n",
    "      return A[-1]\n",
    "    else:\n",
    "      return Z, A\n",
    "\n",
    "  def MSE(self, data):\n",
    "    c = 0.0\n",
    "    for p in data:\n",
    "      a = self.forward_pass(p, predict_vector=True)\n",
    "      c += mse(a, p[1])\n",
    "    return c/len(data)\n",
    "\n",
    "  def deltas_dict(self, p):\n",
    "    Z, A = self.forward_pass(p)\n",
    "    deltas = dict()\n",
    "    deltas[self.L-1] = (A[-1] - p[1])*sigmoid_prime(Z[-1])\n",
    "    for l in range(self.L-2, 0, -1):\n",
    "      deltas[l] = (self.W[l+1].T @ deltas[l+1]) * sigmoid_prime(Z[l])\n",
    "\n",
    "    return A, deltas\n",
    "\n",
    "  def stochastic_gradient_descent(self, data, alpha = 0.04, epochs = 3):\n",
    "    print(f\"Initial Cost = {self.MSE(data)}\")\n",
    "    for k in range(epochs):\n",
    "      for p in data:\n",
    "        A, deltas = self.deltas_dict(p)\n",
    "        for i in range(1, self.L):\n",
    "          self.W[i] = self.W[i] - alpha*deltas[i]@A[i-1].T\n",
    "          self.B[i] = self.B[i] - alpha*deltas[i]\n",
    "    print(f\"{k} Cost = {self.MSE(data)}\")\n",
    "\n",
    "\n"
   ]
  },
  {
   "cell_type": "code",
   "execution_count": null,
   "metadata": {
    "id": "JHxk-iGLHzEG"
   },
   "outputs": [],
   "source": [
    "net = MultilayerPerceptron(layers=[784, 100, 100, 10])"
   ]
  },
  {
   "cell_type": "code",
   "execution_count": null,
   "metadata": {
    "colab": {
     "base_uri": "https://localhost:8080/"
    },
    "executionInfo": {
     "elapsed": 176546,
     "status": "ok",
     "timestamp": 1634757429311,
     "user": {
      "displayName": "Randy Davila",
      "photoUrl": "https://lh3.googleusercontent.com/a/default-user=s64",
      "userId": "04004781324880742972"
     },
     "user_tz": 300
    },
    "id": "8wSPs133H_HT",
    "outputId": "515ce711-d4fd-4eff-c3cb-553e77938a52"
   },
   "outputs": [
    {
     "name": "stdout",
     "output_type": "stream",
     "text": [
      "Initial Cost = 0.04057871606085493\n",
      "2 Cost = 0.04057871606085493\n"
     ]
    }
   ],
   "source": [
    "net.stochastic_gradient_descent(train_data)"
   ]
  },
  {
   "cell_type": "code",
   "execution_count": null,
   "metadata": {
    "id": "eJVa0rfEIBXj"
   },
   "outputs": [],
   "source": []
  }
 ],
 "metadata": {
  "colab": {
   "authorship_tag": "ABX9TyPXT9fD0ZPxi6yyjeKYvEUL",
   "collapsed_sections": [],
   "name": "MLP_Good.ipynb",
   "provenance": []
  },
  "kernelspec": {
   "display_name": "Python 3",
   "language": "python",
   "name": "python3"
  },
  "language_info": {
   "codemirror_mode": {
    "name": "ipython",
    "version": 3
   },
   "file_extension": ".py",
   "mimetype": "text/x-python",
   "name": "python",
   "nbconvert_exporter": "python",
   "pygments_lexer": "ipython3",
   "version": "3.8.8"
  }
 },
 "nbformat": 4,
 "nbformat_minor": 1
}
