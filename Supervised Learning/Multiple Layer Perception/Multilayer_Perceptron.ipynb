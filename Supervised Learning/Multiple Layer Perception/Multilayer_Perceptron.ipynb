{
  "nbformat": 4,
  "nbformat_minor": 0,
  "metadata": {
    "colab": {
      "name": "Multilayer Perceptron.ipynb",
      "provenance": [],
      "collapsed_sections": []
    },
    "kernelspec": {
      "name": "python3",
      "display_name": "Python 3"
    },
    "language_info": {
      "name": "python"
    }
  },
  "cells": [
    {
      "cell_type": "markdown",
      "source": [
        "# Multilayer Perceptron\n",
        "## Definition \n",
        "A feedforward artificial neural network that creates a set of outputs from a set of inputs is known as a multilayer perceptron (MLP). An MLP is defined by numerous layers of input nodes that are linked as a directed graph between the input and output layers. Backpropogation is used by MLP to train the network.\n",
        "\n",
        "![](https://static.packt-cdn.com/products/9781786468574/graphics/B05474_04_05.jpg)\n",
        "\n",
        "There are at least three levels of nodes in an MLP: an **input layer**, a **hidden layer**, and an **output layer**. Each node, with the exception of the input nodes, is a neuron with a nonlinear activation function. Backpropagation is a supervised learning technique used by MLP during training. MLP is distinguished from a linear perceptron by its numerous layers and non-linear activation. It can tell the difference between data that isn't linearly separable."
      ],
      "metadata": {
        "id": "SCkg8vd63S7i"
      }
    },
    {
      "cell_type": "markdown",
      "metadata": {
        "id": "w0UGxRRnjx0z"
      },
      "source": [
        "## Notion Summary\n",
        "* $a_i^{\\ell}$: output of a neuron\n",
        "* $\\omega_{ij}^{\\ell}$: the weight from mode j to mode i in the $\\ell_{th}$ layer\n",
        "* $z_i^{\\ell}$: input of activation function\n",
        "* $b_i^{\\ell}$: the i-th bias in the layer $\\ell$"
      ]
    },
    {
      "cell_type": "markdown",
      "metadata": {
        "id": "TvpUA0VEXgGI"
      },
      "source": [
        "## Layer Output Relation\n",
        "* from a to z\n",
        "$$z_i^{\\ell} = \\omega_{i1}^1a_1^{\\ell-1}+\\omega_{i2}^1a_2^{\\ell-1}+...+b_i^{\\ell}$$\n",
        "\n",
        "* from z to a\n",
        "$$a_i^{\\ell} = \\sigma(z_i^{\\ell})$$\n",
        "\n",
        "* General Version\n",
        "  * $a^0$ = x\n",
        "  * for $\\ell$ = 1 to L\n",
        "$$\\begin{aligned}\n",
        "z^{\\ell} &= W^{\\ell}a^{\\ell-1}+b^{\\ell}\\\\\n",
        "a^{\\ell}&=\\sigma(z^{\\ell})\\\\\n",
        "a^{\\ell}&=\\sigma(W^{\\ell}a^{\\ell-1}+b^{\\ell})\n",
        "\\end{aligned}\n",
        "$$\n",
        "  * Finish with $a^{\\ell}$, our output\n"
      ]
    },
    {
      "cell_type": "markdown",
      "metadata": {
        "id": "uLhiQHbgXxuT"
      },
      "source": [
        "## Neural Network Formulation\n",
        "\\begin{aligned}\n",
        "a^1&=\\sigma(W^1x+b^1)\\\\\n",
        "a^2&=\\sigma(W^2a^1+b^2)\\\\\n",
        "& \\cdots\\\\\n",
        "a^L&=\\sigma(W^La^{L-1}+b^L)\\\\\n",
        "y&=\\sigma(W^L \\cdots\\sigma(W^2\\sigma(W^1x+b^1)+b^2)\\cdots+b^L)\n",
        "\\end{aligned}\n"
      ]
    },
    {
      "cell_type": "markdown",
      "source": [
        "## Non-Linear Activation Function\n",
        "* Without non-linearity, deep neural networks work the same as linear transform\n",
        "$$W_1(W_2\\cdot x)=(W_1W_2) x=Wx$$\n",
        "* With non-linearity, networks with more layers can estimate more complicated function\n",
        "  * **Sigmoid**: $\\text{sigmoid(x)}=\\frac{1}{1+e^{-x}}$\n",
        "\n",
        "  * **tanh**: $\\text{tanh(x)}=\\frac{sinh(x)}{cosh(x)}=\\frac{e^x-e^{-x}}{e^x+e^{-x}}$\n",
        "\n",
        "  * **Rectified Linear Unit**: ReLU(x) = max(x, 0)\n",
        "\n",
        "![](https://www.researchgate.net/profile/Hoon-Chung-2/publication/309775740/figure/fig1/AS:538049215381504@1505292337270/The-most-common-nonlinear-activation-functions.png)"
      ],
      "metadata": {
        "id": "pEBub6x66M_b"
      }
    },
    {
      "cell_type": "markdown",
      "source": [
        "\n",
        "##  Cost function\n",
        "$$C(w,b;x,y)=\\frac{1}{2}\\sum_{i=1}^n(\\alpha_i^L-y_i)^2$$\n",
        "\n",
        "\n",
        "## Output Error\n",
        "$$\\delta^{\\ell-1} = \\nabla_{a^{\\ell-1}}\\ C \\otimes \\sigma' (z^{\\ell-1})$$\n",
        "\n",
        "\n",
        "\n",
        "## Neuron Error\n",
        "For $\\ell = L-2,\\cdots,1$, based on output error, the neuron error is: $$\\delta^{\\ell}=\\bigg(\\big(w^{\\ell+1}\\big) ^T\\delta^{\\ell+1}\\bigg) \\otimes\\sigma'(z^{\\ell})$$\n",
        "\n",
        "\n",
        "## The Gradient Approximation Update Rule\n",
        "  \\begin{aligned}\n",
        "\\frac{\\partial C}{\\partial w^{\\ell}}&=\\delta^{\\ell}(a^{\\ell-1})^T\\\\\n",
        "\\frac{\\partial C}{\\partial b^{\\ell}}&=\\delta^{\\ell}\\\\\n",
        "w^{\\ell} &= w^{\\ell}-\\alpha\\frac{\\partial C}{\\partial w^{\\ell}}\\\\\n",
        "b^{\\ell} &= b^{\\ell}-\\alpha\\frac{\\partial C}{\\partial b^{\\ell}}\n",
        "\\end{aligned}\n"
      ],
      "metadata": {
        "id": "4MqhZH5m6KmK"
      }
    },
    {
      "cell_type": "markdown",
      "metadata": {
        "id": "m4xpKIneqWe0"
      },
      "source": [
        "## Batch Gradient Descent vs. SGD vs. Mini-Batch SGD\n",
        "  * **Batch Gradient Descent**: To perform a single step in Batch Gradient Descent, all of the training data is considered. We take the **mean** gradient of all the gradients in the training instances and use it to update our parameters. So that's only one gradient descent step in one era.\n",
        "  $$\\theta^{i+1} = \\theta^i - \\eta \\frac{1}{K}\\sum_k\\nabla C_k(\\theta^i)$$\n",
        "\n",
        "  * **Stochastic Gradient descent(SGD)**: In Stochastic Gradient Descent (SGD), we consider just **one example** at a time to take a single step. \n",
        "  $$\\theta^{i+1} = \\theta^i - \\eta \\nabla C_k(\\theta^i)$$\n",
        "  * **Mini-Batch SGD**: A mini-batch is a **batch** of a defined number of training samples that is smaller than the full dataset.\n",
        "  $$\\theta^{i+1} = \\theta^i - \\eta \\frac{1}{B}\\sum_{x_k \\in b}\\nabla C_k(\\theta^i)$$\n",
        "\n",
        "  * Training speed: mini-batch > SGD > Gradient Descent\n",
        "\n"
      ]
    },
    {
      "cell_type": "markdown",
      "metadata": {
        "id": "BqxDpjRWyL42"
      },
      "source": [
        "## Backpropagation Networks\n",
        "A Backpropagation (BP) Network is a feed-forward multilayer perceptron network with differentiable activation functions in each layer. Backpropagation Learning is done in 3 stages:\n",
        "\n",
        "* The input training pattern is feed-forward.\n",
        "* The error between actual output and target values are calculated.\n",
        "* The weights update.\n",
        "\n"
      ]
    },
    {
      "cell_type": "markdown",
      "metadata": {
        "id": "mn95hxE_1-8l"
      },
      "source": [
        "## Steps\n",
        "* Initialize the weights and bias with small-randomized values.\n",
        "* Propagate all values in the input layer until output layer(Forward Propagation).\n",
        "* Update weight and bias in the inner layers(Backpropagation).\n",
        "* Do it until that the stop criterion is satisfied."
      ]
    },
    {
      "cell_type": "markdown",
      "metadata": {
        "id": "WmYmEpgb2iIa"
      },
      "source": [
        "## Data\n",
        "[CIFAR10 small images classification dataset](https://keras.io/api/datasets/cifar10/)\n",
        "\n",
        "This is a dataset of 50,000 32x32 color training images and 10,000 test images, labeled over 10 categories. \n",
        "The classes are:\n",
        "* 0 airplane\n",
        "* 1\tautomobile\n",
        "* 2\tbird\n",
        "* 3\tcat\n",
        "* 4\tdeer\n",
        "* 5\tdog\n",
        "* 6\tfrog\n",
        "* 7\thorse\n",
        "* 8\tship\n",
        "* 9\ttruck\n"
      ]
    },
    {
      "cell_type": "markdown",
      "source": [
        "## Package \n",
        "* [tensorflow](https://www.tensorflow.org)\n",
        "* [numpy](https://numpy.org)\n",
        "* [matplotlib.pyplot](https://matplotlib.org/stable/api/_as_gen/matplotlib.pyplot.html)"
      ],
      "metadata": {
        "id": "FPuyYAJ99lo8"
      }
    },
    {
      "cell_type": "code",
      "metadata": {
        "id": "3ORhPxVx_KWp"
      },
      "source": [
        "from tensorflow import keras # to load the data\n",
        "import numpy as np\n",
        "import matplotlib.pyplot as plt"
      ],
      "execution_count": 3,
      "outputs": []
    },
    {
      "cell_type": "markdown",
      "source": [
        "## Data Exploration"
      ],
      "metadata": {
        "id": "FcMMMGALO8KV"
      }
    },
    {
      "cell_type": "code",
      "source": [
        "(x_train, y_train), (x_test, y_test) = keras.datasets.cifar10.load_data()\n",
        "assert x_train.shape == (50000, 32, 32, 3)\n",
        "assert x_test.shape == (10000, 32, 32, 3)\n",
        "assert y_train.shape == (50000, 1)\n",
        "assert y_test.shape == (10000, 1)"
      ],
      "metadata": {
        "id": "Zq4XYmtlAVmD",
        "colab": {
          "base_uri": "https://localhost:8080/"
        },
        "outputId": "6c26522b-9e96-44f4-cef4-146894ebe605"
      },
      "execution_count": 4,
      "outputs": [
        {
          "output_type": "stream",
          "name": "stdout",
          "text": [
            "Downloading data from https://www.cs.toronto.edu/~kriz/cifar-10-python.tar.gz\n",
            "170500096/170498071 [==============================] - 2s 0us/step\n",
            "170508288/170498071 [==============================] - 2s 0us/step\n"
          ]
        }
      ]
    },
    {
      "cell_type": "markdown",
      "source": [
        "Visualize the first image of training data"
      ],
      "metadata": {
        "id": "fasHx-DjBbsZ"
      }
    },
    {
      "cell_type": "code",
      "metadata": {
        "colab": {
          "base_uri": "https://localhost:8080/",
          "height": 283
        },
        "id": "Z3MO8_jX_mVI",
        "outputId": "40620563-4374-4532-cccc-38e15c1d0faa"
      },
      "source": [
        "plt.imshow(x_train[0])\n"
      ],
      "execution_count": 5,
      "outputs": [
        {
          "output_type": "execute_result",
          "data": {
            "text/plain": [
              "<matplotlib.image.AxesImage at 0x7fab5e74cd50>"
            ]
          },
          "metadata": {},
          "execution_count": 5
        },
        {
          "output_type": "display_data",
          "data": {
            "image/png": "[encoded data removed]",
            "text/plain": [
              "<Figure size 432x288 with 1 Axes>"
            ]
          },
          "metadata": {
            "needs_background": "light"
          }
        }
      ]
    },
    {
      "cell_type": "markdown",
      "source": [
        "The range of x_train for each picture is from 0 to 225."
      ],
      "metadata": {
        "id": "s3tZhWCcBnUh"
      }
    },
    {
      "cell_type": "code",
      "source": [
        "np.min(x_train),np.max(x_train)"
      ],
      "metadata": {
        "colab": {
          "base_uri": "https://localhost:8080/"
        },
        "id": "lNbodxcOBSbS",
        "outputId": "2ac0d5dc-54fa-47aa-99e2-83b16d6327f0"
      },
      "execution_count": 6,
      "outputs": [
        {
          "output_type": "execute_result",
          "data": {
            "text/plain": [
              "(0, 255)"
            ]
          },
          "metadata": {},
          "execution_count": 6
        }
      ]
    },
    {
      "cell_type": "markdown",
      "source": [
        "Let's scale x_train and x_test"
      ],
      "metadata": {
        "id": "G-enl4HbB9aR"
      }
    },
    {
      "cell_type": "code",
      "source": [
        "x_train = x_train/255\n",
        "x_test = x_test/255"
      ],
      "metadata": {
        "id": "nwzaho1jB6vL"
      },
      "execution_count": 7,
      "outputs": []
    },
    {
      "cell_type": "markdown",
      "source": [
        "To feed into the network, et's flat X to change the matrix shape to a vector. \n",
        "\n",
        "Check the flatten function and the shape."
      ],
      "metadata": {
        "id": "pns-g4eaCc-8"
      }
    },
    {
      "cell_type": "code",
      "source": [
        "x_train[0].flatten().shape"
      ],
      "metadata": {
        "colab": {
          "base_uri": "https://localhost:8080/"
        },
        "id": "4pDZ74CmCcSZ",
        "outputId": "eaf1ec82-a3a6-4259-a255-9fcd54a4ae40"
      },
      "execution_count": 8,
      "outputs": [
        {
          "output_type": "execute_result",
          "data": {
            "text/plain": [
              "(3072,)"
            ]
          },
          "metadata": {},
          "execution_count": 8
        }
      ]
    },
    {
      "cell_type": "markdown",
      "source": [
        "Next, let's reshape it to a vector with 3072 rows and 1 column."
      ],
      "metadata": {
        "id": "LeKLJpK1DTfC"
      }
    },
    {
      "cell_type": "code",
      "source": [
        "x_train[0].flatten().reshape(3072, 1).shape"
      ],
      "metadata": {
        "colab": {
          "base_uri": "https://localhost:8080/"
        },
        "id": "pm-eruG-Dsi5",
        "outputId": "de89536b-43da-4490-8b0c-004f818845b5"
      },
      "execution_count": 9,
      "outputs": [
        {
          "output_type": "execute_result",
          "data": {
            "text/plain": [
              "(3072, 1)"
            ]
          },
          "metadata": {},
          "execution_count": 9
        }
      ]
    },
    {
      "cell_type": "markdown",
      "source": [
        "Create for loops to flatten the X matrix. The label vectors are temporarily stored in Y."
      ],
      "metadata": {
        "id": "YHcIsWCqE1Ic"
      }
    },
    {
      "cell_type": "code",
      "source": [
        "# X will temp store flattened matrices\n",
        "X = []\n",
        "for x in x_train:\n",
        "  X.append(x.flatten().reshape(3072, 1))\n",
        "\n",
        "# Y will temp store one-hot encoded label vectors\n",
        "Y = []\n",
        "for y in y_train:\n",
        "  temp_vec = np.zeros((10, 1))\n",
        "  temp_vec[y][0] = 1.0\n",
        "  Y.append(temp_vec)\n",
        "\n",
        "# Our data will be stored as a list of tuples. \n",
        "train_data = [p for p in zip(X, Y)]"
      ],
      "metadata": {
        "id": "ymJeC3L2EP7_"
      },
      "execution_count": 10,
      "outputs": []
    },
    {
      "cell_type": "code",
      "source": [
        "p = train_data[0]\n",
        "print(p[1])"
      ],
      "metadata": {
        "colab": {
          "base_uri": "https://localhost:8080/"
        },
        "id": "6T2Owo3bX6fb",
        "outputId": "3e780f2c-03ff-4a1a-ccf3-f9e3ebbfd7d4"
      },
      "execution_count": 11,
      "outputs": [
        {
          "output_type": "stream",
          "name": "stdout",
          "text": [
            "[[0.]\n",
            " [0.]\n",
            " [0.]\n",
            " [0.]\n",
            " [0.]\n",
            " [0.]\n",
            " [0.]\n",
            " [0.]\n",
            " [0.]\n",
            " [0.]]\n"
          ]
        }
      ]
    },
    {
      "cell_type": "markdown",
      "source": [
        "Check the shape of p and the shape of training data."
      ],
      "metadata": {
        "id": "3P21_MAaYkar"
      }
    },
    {
      "cell_type": "code",
      "source": [
        "p[0].shape"
      ],
      "metadata": {
        "colab": {
          "base_uri": "https://localhost:8080/"
        },
        "id": "ZrrFUvOqYsub",
        "outputId": "47b0d3f9-f19f-4219-9fc1-c3ab2b055db9"
      },
      "execution_count": 12,
      "outputs": [
        {
          "output_type": "execute_result",
          "data": {
            "text/plain": [
              "(3072, 1)"
            ]
          },
          "metadata": {},
          "execution_count": 12
        }
      ]
    },
    {
      "cell_type": "code",
      "source": [
        "np.array(train_data).shape"
      ],
      "metadata": {
        "colab": {
          "base_uri": "https://localhost:8080/"
        },
        "id": "3K--6r8LYzBg",
        "outputId": "15c066d7-4775-405f-dc02-6377fbae4e36"
      },
      "execution_count": 13,
      "outputs": [
        {
          "output_type": "stream",
          "name": "stderr",
          "text": [
            "/usr/local/lib/python3.7/dist-packages/ipykernel_launcher.py:1: VisibleDeprecationWarning: Creating an ndarray from ragged nested sequences (which is a list-or-tuple of lists-or-tuples-or ndarrays with different lengths or shapes) is deprecated. If you meant to do this, you must specify 'dtype=object' when creating the ndarray\n",
            "  \"\"\"Entry point for launching an IPython kernel.\n"
          ]
        },
        {
          "output_type": "execute_result",
          "data": {
            "text/plain": [
              "(50000, 2)"
            ]
          },
          "metadata": {},
          "execution_count": 13
        }
      ]
    },
    {
      "cell_type": "markdown",
      "source": [
        "Do the same work to test data."
      ],
      "metadata": {
        "id": "1T7sVqG7Y1o2"
      }
    },
    {
      "cell_type": "code",
      "source": [
        "X = []\n",
        "for x in x_test:\n",
        "  X.append(x.flatten().reshape(3072, 1))\n",
        "\n",
        "Y = []\n",
        "for y in y_test:\n",
        "  temp_vec = np.zeros((10, 1))\n",
        "  temp_vec[y][0] = 1.0\n",
        "  Y.append(temp_vec)\n",
        "\n",
        "test_data = [p for p in zip(X, Y)]"
      ],
      "metadata": {
        "id": "SbAABXXBY7e2"
      },
      "execution_count": 14,
      "outputs": []
    },
    {
      "cell_type": "markdown",
      "source": [
        "## Algorithm Steup"
      ],
      "metadata": {
        "id": "i4ynFChiP603"
      }
    },
    {
      "cell_type": "markdown",
      "source": [
        "### Activation Function \n",
        "Define activation function and their first derivative\n",
        "\n",
        "The first derivative of the sigmoid function is:\n",
        "$$\\sigma'(z)=\\sigma(z)(1-\\sigma(z))$$"
      ],
      "metadata": {
        "id": "YqdCzqymZOg6"
      }
    },
    {
      "cell_type": "code",
      "source": [
        "def sigmoid(z):\n",
        "  return 1.0/(1.0+np.exp(-z))\n",
        "\n",
        "def sigmoid_prime(z):\n",
        "  return sigmoid(z)*(1.0-sigmoid(z))\n"
      ],
      "metadata": {
        "id": "wgGRPcbkZN1A"
      },
      "execution_count": 15,
      "outputs": []
    },
    {
      "cell_type": "markdown",
      "source": [
        "The first derivative of the tanh function is:\n",
        "$$\\text{tanh}'(z) = 1- (\\text{tanh}(z))^2$$"
      ],
      "metadata": {
        "id": "nq3IyyPjdfJh"
      }
    },
    {
      "cell_type": "code",
      "source": [
        "def tanh(z):\n",
        "  return np.tanh(z)\n",
        "\n",
        "def tanh_prime(z):\n",
        "  return 1.0 - (np.tanh(z))**2\n"
      ],
      "metadata": {
        "id": "n1Lh9OBbcCSY"
      },
      "execution_count": null,
      "outputs": []
    },
    {
      "cell_type": "markdown",
      "source": [
        "The first derivative of the relu function is:\n",
        "$$\\text{relu}'(z) = \\text{where}(z > 0, 1.0, 0)$$"
      ],
      "metadata": {
        "id": "MchH0GvWeEsa"
      }
    },
    {
      "cell_type": "code",
      "source": [
        "def relu(z):\n",
        "  np.maximum(0, z)\n",
        "\n",
        "def relu_prime(z):\n",
        "  return np.where(z > 0, 1.0, 0)"
      ],
      "metadata": {
        "id": "IvyzciMkd7To"
      },
      "execution_count": null,
      "outputs": []
    },
    {
      "cell_type": "markdown",
      "source": [
        "## Loss Function\n",
        "The cost function is:\n",
        "$$C(w,b;x,y)=\\frac{1}{2}\\sum_{i=1}^n(\\alpha_i^L-y_i)^2$$"
      ],
      "metadata": {
        "id": "ieUwQTw-cjbJ"
      }
    },
    {
      "cell_type": "code",
      "source": [
        "def mse(a, y):\n",
        "  return .5*sum((a[i]-y[i])**2 for i in range(10))[0]"
      ],
      "metadata": {
        "id": "nP8plZF7cjGy"
      },
      "execution_count": null,
      "outputs": []
    },
    {
      "cell_type": "markdown",
      "source": [
        "### Initial weights and bias.  \n",
        "The number of nodes in the four layers is 3072, 60, 60, 10, respectively. Thus, the dimentions of weights are (60, 3027), (60,60), (10,60). The dimensions of bias are (60,1), (60,1), (10,1)."
      ],
      "metadata": {
        "id": "iSOQQpaabTAb"
      }
    },
    {
      "cell_type": "code",
      "source": [
        "def initialize_weights(layers = [3072, 60, 60, 10]):\n",
        "  W = [[0.0]]\n",
        "  B = [[0.0]]\n",
        "  for i in range(1, len(layers)):\n",
        "    w_temp = np.random.randn(layers[i], layers[i-1])*np.sqrt(2/layers[i-1])\n",
        "    b_temp = np.random.randn(layers[i], 1)*np.sqrt(2/layers[i-1])\n",
        "\n",
        "    W.append(w_temp)\n",
        "    B.append(b_temp)\n",
        "  return W, B"
      ],
      "metadata": {
        "id": "Vls_sFiwZf-n"
      },
      "execution_count": 16,
      "outputs": []
    },
    {
      "cell_type": "code",
      "source": [
        "W, B = initialize_weights()"
      ],
      "metadata": {
        "id": "I9vNAVB0aC_0"
      },
      "execution_count": 17,
      "outputs": []
    },
    {
      "cell_type": "code",
      "source": [
        "x, y = train_data[0]"
      ],
      "metadata": {
        "id": "UpDyqvh8byv7"
      },
      "execution_count": 18,
      "outputs": []
    },
    {
      "cell_type": "markdown",
      "source": [
        "### Forward Propagation"
      ],
      "metadata": {
        "id": "Nf7VGN5ARo4x"
      }
    },
    {
      "cell_type": "markdown",
      "source": [
        "Output of the first layer"
      ],
      "metadata": {
        "id": "8sUgR6DNbhtv"
      }
    },
    {
      "cell_type": "code",
      "source": [
        "a0 = x\n",
        "z1 = (W[1] @ a0) + B[1]\n",
        "a1 = sigmoid(z1)"
      ],
      "metadata": {
        "id": "_jX7vVvtaH7n"
      },
      "execution_count": 19,
      "outputs": []
    },
    {
      "cell_type": "code",
      "source": [
        "a1.shape"
      ],
      "metadata": {
        "colab": {
          "base_uri": "https://localhost:8080/"
        },
        "id": "U239xGaLaJme",
        "outputId": "aef2d655-5cd6-4c96-82e3-0449e4f95474"
      },
      "execution_count": 20,
      "outputs": [
        {
          "output_type": "execute_result",
          "data": {
            "text/plain": [
              "(60, 1)"
            ]
          },
          "metadata": {},
          "execution_count": 20
        }
      ]
    },
    {
      "cell_type": "markdown",
      "source": [
        "Output of the second layer"
      ],
      "metadata": {
        "id": "K0TaRaXicAQf"
      }
    },
    {
      "cell_type": "code",
      "source": [
        "z2 = (W[2] @ a1) + B[2]\n",
        "a2 = sigmoid(z2)\n",
        "print(a2.shape)"
      ],
      "metadata": {
        "colab": {
          "base_uri": "https://localhost:8080/"
        },
        "id": "DB39bWedaLZi",
        "outputId": "1f446fe7-8e44-4e78-8963-10b38af432b2"
      },
      "execution_count": 21,
      "outputs": [
        {
          "output_type": "stream",
          "name": "stdout",
          "text": [
            "(60, 1)\n"
          ]
        }
      ]
    },
    {
      "cell_type": "markdown",
      "source": [
        "Output of the third layer."
      ],
      "metadata": {
        "id": "bMs9tRJ2cGWV"
      }
    },
    {
      "cell_type": "code",
      "source": [
        "z3 = (W[3] @ a2) + B[3]\n",
        "a3 = sigmoid(z3)\n",
        "print(a3.shape)"
      ],
      "metadata": {
        "colab": {
          "base_uri": "https://localhost:8080/"
        },
        "id": "2d0XGX6GaLcJ",
        "outputId": "ff66cf42-219f-4458-8c48-e0906e2c7b02"
      },
      "execution_count": 22,
      "outputs": [
        {
          "output_type": "stream",
          "name": "stdout",
          "text": [
            "(10, 1)\n"
          ]
        }
      ]
    },
    {
      "cell_type": "markdown",
      "source": [
        "The shape of the output of the three layers are (60,1), (60,1), (10,1), respectively, meaning that our function works well."
      ],
      "metadata": {
        "id": "hpEsT6ZDN2--"
      }
    },
    {
      "cell_type": "markdown",
      "source": [
        "Record the output of hidden layers and output layer."
      ],
      "metadata": {
        "id": "xw6ow500cZlP"
      }
    },
    {
      "cell_type": "code",
      "source": [
        "W, B = initialize_weights(layers=[3072, 60, 60, 10])\n",
        "x, y = train_data[0]\n",
        "Z = [[0.0]]\n",
        "A = [x]\n",
        "L = len(B)\n",
        "for i in range(1, L):\n",
        "  z = (W[i] @ A[i-1]) + B[i]\n",
        "  a = sigmoid(z)\n",
        "\n",
        "  Z.append(z)\n",
        "  A.append(a)"
      ],
      "metadata": {
        "id": "J9VkPb8iaLez"
      },
      "execution_count": 23,
      "outputs": []
    },
    {
      "cell_type": "markdown",
      "source": [
        "The shape of the output layer."
      ],
      "metadata": {
        "id": "6RQgkdge8GFT"
      }
    },
    {
      "cell_type": "code",
      "source": [
        "A[-1].shape"
      ],
      "metadata": {
        "colab": {
          "base_uri": "https://localhost:8080/"
        },
        "id": "bWOV-1NUaLhB",
        "outputId": "78b118f4-85ff-4ec6-f734-883246253ee7"
      },
      "execution_count": 24,
      "outputs": [
        {
          "output_type": "execute_result",
          "data": {
            "text/plain": [
              "(10, 1)"
            ]
          },
          "metadata": {},
          "execution_count": 24
        }
      ]
    },
    {
      "cell_type": "code",
      "source": [
        "A[-1]"
      ],
      "metadata": {
        "colab": {
          "base_uri": "https://localhost:8080/"
        },
        "id": "jTwE1JGdPmjY",
        "outputId": "2cef0a92-f844-4b4a-cfc6-dc30304ac6da"
      },
      "execution_count": 25,
      "outputs": [
        {
          "output_type": "execute_result",
          "data": {
            "text/plain": [
              "array([[0.30849575],\n",
              "       [0.6590959 ],\n",
              "       [0.72038567],\n",
              "       [0.77423845],\n",
              "       [0.79782488],\n",
              "       [0.58541553],\n",
              "       [0.45312934],\n",
              "       [0.72169938],\n",
              "       [0.52324117],\n",
              "       [0.53288498]])"
            ]
          },
          "metadata": {},
          "execution_count": 25
        }
      ]
    },
    {
      "cell_type": "markdown",
      "source": [
        "## output error\n",
        "Store delta values (**output error**) by creating a dictionary.\n",
        "$$\\delta^{\\ell-1} = \\nabla_{a^{\\ell-1}}\\ C \\otimes \\sigma' (z^{\\ell-1})$$\n"
      ],
      "metadata": {
        "id": "ILx0DKaMcskz"
      }
    },
    {
      "cell_type": "code",
      "source": [
        "deltas = dict()\n",
        "delta_last = (A[-1] - y)*sigmoid_prime(Z[-1])\n",
        "deltas[L-1] = delta_last"
      ],
      "metadata": {
        "id": "VnMTbJgFaSYS"
      },
      "execution_count": 26,
      "outputs": []
    },
    {
      "cell_type": "code",
      "source": [
        "deltas[L-1]"
      ],
      "metadata": {
        "colab": {
          "base_uri": "https://localhost:8080/"
        },
        "id": "IHEIo9V8aSa7",
        "outputId": "56cf50ba-3f34-4bec-fdda-50c322d8d129"
      },
      "execution_count": 27,
      "outputs": [
        {
          "output_type": "execute_result",
          "data": {
            "text/plain": [
              "array([[0.0658102 ],\n",
              "       [0.14809127],\n",
              "       [0.1451074 ],\n",
              "       [0.13533167],\n",
              "       [0.12868942],\n",
              "       [0.1420828 ],\n",
              "       [0.11228687],\n",
              "       [0.14495288],\n",
              "       [0.13052766],\n",
              "       [0.13264497]])"
            ]
          },
          "metadata": {},
          "execution_count": 27
        }
      ]
    },
    {
      "cell_type": "markdown",
      "source": [
        "\n",
        "## Neuron Error\n",
        "For $\\ell = L-2,\\cdots,1$, based on output error, the neuron error is: $$\\delta^{\\ell}=\\bigg(\\big(w^{\\ell+1}\\big) ^T\\delta^{\\ell+1}\\bigg) \\otimes\\sigma'(z^{\\ell})$$"
      ],
      "metadata": {
        "id": "J0mW_dTRSdJj"
      }
    },
    {
      "cell_type": "code",
      "source": [
        "for l in range(L-2, 0, -1):\n",
        "  deltas[l] = (W[l+1].T @ deltas[l+1])*sigmoid_prime(Z[l])"
      ],
      "metadata": {
        "id": "1iDW7WUNdCg1"
      },
      "execution_count": 28,
      "outputs": []
    },
    {
      "cell_type": "markdown",
      "source": [
        "The shape of each layers."
      ],
      "metadata": {
        "id": "q3oAFMvR8S4V"
      }
    },
    {
      "cell_type": "code",
      "source": [
        "deltas[1].shape"
      ],
      "metadata": {
        "colab": {
          "base_uri": "https://localhost:8080/"
        },
        "id": "Yk05MGR9dDB0",
        "outputId": "66a90b7e-345f-48c1-a398-8a60d4a3b174"
      },
      "execution_count": 29,
      "outputs": [
        {
          "output_type": "execute_result",
          "data": {
            "text/plain": [
              "(60, 1)"
            ]
          },
          "metadata": {},
          "execution_count": 29
        }
      ]
    },
    {
      "cell_type": "code",
      "source": [
        "deltas[2].shape"
      ],
      "metadata": {
        "colab": {
          "base_uri": "https://localhost:8080/"
        },
        "id": "peLHp6R18fy7",
        "outputId": "61d7450f-ad9f-419f-b269-e0d7efdf5673"
      },
      "execution_count": 30,
      "outputs": [
        {
          "output_type": "execute_result",
          "data": {
            "text/plain": [
              "(60, 1)"
            ]
          },
          "metadata": {},
          "execution_count": 30
        }
      ]
    },
    {
      "cell_type": "code",
      "source": [
        "deltas[3].shape"
      ],
      "metadata": {
        "colab": {
          "base_uri": "https://localhost:8080/"
        },
        "id": "msgY4Ro38f2z",
        "outputId": "1b28910e-609d-4e9e-8819-65a6519f2159"
      },
      "execution_count": 31,
      "outputs": [
        {
          "output_type": "execute_result",
          "data": {
            "text/plain": [
              "(10, 1)"
            ]
          },
          "metadata": {},
          "execution_count": 31
        }
      ]
    },
    {
      "cell_type": "markdown",
      "source": [
        "The shape of the outputs of each layer is right, meaning that our functions for the output error and the neuron error work well."
      ],
      "metadata": {
        "id": "fJpzkBVmTUz-"
      }
    },
    {
      "cell_type": "markdown",
      "source": [
        " Setup learning rate."
      ],
      "metadata": {
        "id": "nxA333YsdZd3"
      }
    },
    {
      "cell_type": "code",
      "source": [
        "alpha = 0.04"
      ],
      "metadata": {
        "id": "p7NVDmk_aSdr"
      },
      "execution_count": 32,
      "outputs": []
    },
    {
      "cell_type": "markdown",
      "source": [
        "## Update weight and bias"
      ],
      "metadata": {
        "id": "-J_Wn0Jtdh1f"
      }
    },
    {
      "cell_type": "code",
      "source": [
        "for i in range(1, 4):\n",
        "  W[i] = W[i] - alpha*deltas[i]@A[i-1].T\n",
        "  B[i] = B[i] - alpha*deltas[i]"
      ],
      "metadata": {
        "id": "o3bURo17aYj8"
      },
      "execution_count": 33,
      "outputs": []
    },
    {
      "cell_type": "markdown",
      "source": [
        "## Feed forward and make predictions."
      ],
      "metadata": {
        "id": "S5iVVtJ89Dka"
      }
    },
    {
      "cell_type": "code",
      "source": [
        "def forward_pass(W, B, p, predict_vector = False):\n",
        "  Z =[[0.0]]\n",
        "  A = [p[0]]\n",
        "  L = len(W)\n",
        "  for i in range(1, L):\n",
        "    z = (W[i] @ A[i-1]) + B[i]\n",
        "    a = sigmoid(z)\n",
        "\n",
        "    Z.append(z)\n",
        "    A.append(a)\n",
        "\n",
        "  if predict_vector == True:\n",
        "    return A[-1]\n",
        "  else:\n",
        "    return Z, A\n"
      ],
      "metadata": {
        "id": "-F3rUCvHaYmY"
      },
      "execution_count": 34,
      "outputs": []
    },
    {
      "cell_type": "markdown",
      "source": [
        "Neuron Errors Storage"
      ],
      "metadata": {
        "id": "wVSE6PpQUFAk"
      }
    },
    {
      "cell_type": "code",
      "source": [
        "def deltas_dict(W, B, p):\n",
        "  Z, A = forward_pass(W, B, p)\n",
        "  L = len(W)\n",
        "  deltas = dict()\n",
        "  deltas[L-1] = (A[-1] - p[1])*sigmoid_prime(Z[-1])\n",
        "  for l in range(L-2, 0, -1):\n",
        "    deltas[l] = (W[l+1].T @ deltas[l+1]) * sigmoid_prime(Z[l])\n",
        "\n",
        "  return A, deltas\n"
      ],
      "metadata": {
        "id": "Bo0pKuNgUFYG"
      },
      "execution_count": 35,
      "outputs": []
    },
    {
      "cell_type": "markdown",
      "source": [
        "Define loss function."
      ],
      "metadata": {
        "id": "LKnoSvk59LhV"
      }
    },
    {
      "cell_type": "code",
      "source": [
        "def MSE(W, B, data):\n",
        "  c = 0.0\n",
        "  for p in data:\n",
        "    a = forward_pass(W, B, p, predict_vector=True)\n",
        "    c += mse(a, p[1]) # error between a and y\n",
        "  return c/len(data)"
      ],
      "metadata": {
        "id": "JfFGO8vZaYo2"
      },
      "execution_count": 36,
      "outputs": []
    },
    {
      "cell_type": "markdown",
      "source": [
        "## Algorithm implementation"
      ],
      "metadata": {
        "id": "pbzRfkyOVEpi"
      }
    },
    {
      "cell_type": "markdown",
      "source": [
        "Calculate initial loss."
      ],
      "metadata": {
        "id": "RF9zerJB9P_d"
      }
    },
    {
      "cell_type": "code",
      "source": [
        "W, B = initialize_weights()\n",
        "print(f\"Initial Cost = {MSE(W, B, train_data)}\")"
      ],
      "metadata": {
        "id": "xK1CCGH5aYq8",
        "colab": {
          "base_uri": "https://localhost:8080/"
        },
        "outputId": "1d7950eb-5183-41fa-a0b1-431243085c12"
      },
      "execution_count": 37,
      "outputs": [
        {
          "output_type": "stream",
          "name": "stdout",
          "text": [
            "Initial Cost = 0.9934194082147363\n"
          ]
        }
      ]
    },
    {
      "cell_type": "code",
      "source": [
        "i = np.random.randint(0, len(x_test))\n",
        "prediction = np.argmax(forward_pass(W, B, test_data[i], predict_vector=True))\n",
        "print(f\"Predicted Value = {prediction}\")\n",
        "print(f\"Actual Value = {y_test[i]}\")\n",
        "plt.imshow(x_test[i], cmap=\"gray\")\n",
        "plt.show()"
      ],
      "metadata": {
        "id": "YroKPOhtaYtQ",
        "colab": {
          "base_uri": "https://localhost:8080/",
          "height": 300
        },
        "outputId": "9fa62606-5608-4d26-9c8f-a2287e7b2d9a"
      },
      "execution_count": 41,
      "outputs": [
        {
          "output_type": "stream",
          "name": "stdout",
          "text": [
            "Predicted Value = 7\n",
            "Actual Value = [9]\n"
          ]
        },
        {
          "output_type": "display_data",
          "data": {
            "image/png": "[encoded data removed]",
            "text/plain": [
              "<Figure size 432x288 with 1 Axes>"
            ]
          },
          "metadata": {
            "needs_background": "light"
          }
        }
      ]
    },
    {
      "cell_type": "markdown",
      "source": [
        "The predicted value is not consistent with the actual value. "
      ],
      "metadata": {
        "id": "FWSgSiXO9lve"
      }
    },
    {
      "cell_type": "markdown",
      "source": [
        "Define a stochastic gradient descent function with a learning rate $\\alpha = 0.04$ and epochs (the number of iterations) = 3."
      ],
      "metadata": {
        "id": "H4nc8xzj974d"
      }
    },
    {
      "cell_type": "code",
      "source": [
        "def stochastic_gradient_descent(W, B, data, alpha = 0.04, epochs = 3):\n",
        "  L = len(W)\n",
        "  print(f\"Initial Cost = {MSE(W, B, data)}\")\n",
        "  for k in range(epochs):\n",
        "    for p in data:\n",
        "      A, deltas = deltas_dict(W, B, p)\n",
        "      for i in range(1, L):\n",
        "        W[i] = W[i] - alpha*deltas[i]@A[i-1].T\n",
        "        B[i] = B[i] - alpha*deltas[i]\n",
        "    print(f\"{k} Cost = {MSE(W, B, data)}\")"
      ],
      "metadata": {
        "id": "gtx4Iy5JaYvn"
      },
      "execution_count": 48,
      "outputs": []
    },
    {
      "cell_type": "code",
      "source": [
        "stochastic_gradient_descent(W, B, train_data)"
      ],
      "metadata": {
        "colab": {
          "base_uri": "https://localhost:8080/"
        },
        "id": "Wn2cExVi_XkA",
        "outputId": "979c2a27-6ad5-4127-d90a-dba5eb6e6621"
      },
      "execution_count": 49,
      "outputs": [
        {
          "output_type": "stream",
          "name": "stdout",
          "text": [
            "Initial Cost = 0.9934194082147363\n",
            "0 Cost = 3.28662926871759e-05\n",
            "1 Cost = 1.5939636222433912e-05\n",
            "2 Cost = 1.0451486149977837e-05\n"
          ]
        }
      ]
    },
    {
      "cell_type": "markdown",
      "source": [
        "Epoch's costs progressively decline. The training procedure is effective."
      ],
      "metadata": {
        "id": "ef0RTZKuBB2m"
      }
    },
    {
      "cell_type": "markdown",
      "source": [
        "We may combine all of the functions to form a class. Meanwhile, we develop another approach for optimizing the algorithm, mini-batch gradient descent."
      ],
      "metadata": {
        "id": "WNrZ0isrAdbk"
      }
    },
    {
      "cell_type": "code",
      "source": [
        "# everything is the same, except for the self\n",
        "class MultilayerPerceptron():\n",
        "  \n",
        "  def __init__(self, layers = [3072, 60, 60, 10]):\n",
        "    self.layers = layers\n",
        "    self.L = len(self.layers)\n",
        "    self.W =[[0.0]]\n",
        "    self.B = [[0.0]]\n",
        "    for i in range(1, self.L):\n",
        "      w_temp = np.random.randn(self.layers[i], self.layers[i - 1])*np.sqrt(2/self.layers[i - 1])\n",
        "      b_temp = np.random.randn(self.layers[i], 1)*np.sqrt(2/self.layers[i-1])\n",
        "\n",
        "      self.W.append(w_temp)\n",
        "      self.B.append(b_temp)\n",
        "\n",
        "  def reset_weights(self, layers = [3072, 60, 60, 10]):\n",
        "    self.layers = layers\n",
        "    self.L = len(self.layers)\n",
        "    self.W = [[0.0]]\n",
        "    self.B = [[0.0]]\n",
        "    for i in range(1, self.L):\n",
        "      w_temp = np.random.randn(self.layers[i], self.layers[i - 1])*np.sqrt(2/self.layers[i - 1])\n",
        "      b_temp = np.random.randn(self.layers[i], 1)*np.sqrt(2/self.layers[i-1])\n",
        "\n",
        "      self.W.append(w_temp)\n",
        "      self.B.append(b_temp)\n",
        "\n",
        "\n",
        "  def forward_pass(self, p, predict_vector = False):\n",
        "    Z =[[0.0]]\n",
        "    A = [p[0]]\n",
        "    for i in range(1, self.L):\n",
        "      z = (self.W[i] @ A[i - 1]) + self.B[i]\n",
        "      a = sigmoid(z)\n",
        "      Z.append(z)\n",
        "      A.append(a)\n",
        "\n",
        "    if predict_vector == True:\n",
        "      return A[-1]\n",
        "    else:\n",
        "      return Z, A\n",
        "\n",
        "  def MSE(self, data):\n",
        "    c = 0.0\n",
        "    for p in data:\n",
        "      a = self.forward_pass(p, predict_vector=True)\n",
        "      c += mse(a, p[1])\n",
        "    return c/len(data)\n",
        "\n",
        "  def deltas_dict(self, p):\n",
        "    Z, A = self.forward_pass(p)\n",
        "    deltas = dict()\n",
        "    deltas[self.L - 1] = (A[-1] - p[1])*sigmoid_prime(Z[-1])\n",
        "    for l in range(self.L - 2, 0, -1):\n",
        "      deltas[l] = (self.W[l+1].T @ deltas[l+1]) * sigmoid_prime(Z[l])\n",
        "\n",
        "    return A, deltas\n",
        "\n",
        "  def stochastic_gradient_descent(self, data, alpha = 0.04, epochs = 3):\n",
        "    print(f\"Initial Cost = {self.MSE(data)}\")\n",
        "    for k in range(epochs):\n",
        "      for p in data:\n",
        "        A, deltas = self.deltas_dict(p)\n",
        "        for i in range(1, self.L):\n",
        "          self.W[i] = self.W[i] - alpha*deltas[i]@A[i - 1].T\n",
        "          self.B[i] = self.B[i] - alpha*deltas[i]\n",
        "    print(f\"{k} Cost = {self.MSE(data)}\")\n",
        "\n",
        "  def mini_batch_gradient_descent(self, data, batch_size = 15, alpha = 0.04, epochs = 3):\n",
        "    print(f\"Initial Cost = {self.MSE(data)}\")\n",
        "    data_length = len(data)\n",
        "    for k in range(epochs):\n",
        "      for j in range(0,data_length-batch_size,batch_size):\n",
        "        delta_list = []\n",
        "        A_list = []\n",
        "        for p in data[j:j + batch_size]:\n",
        "          A, deltas = self.deltas_dict(p)\n",
        "          A_list.append(A)\n",
        "\n",
        "          for i in range(1, self.L):\n",
        "            self.W[i] = self.W[i] - (alpha/batch_size)*sum(da[0][i]@da[1][i - 1].T for da in zip(delta_list, A_list))\n",
        "            self.B[i] = self.B[i] - (alpha/batch_size)*sum(deltas[i] for deltas in delta_list)\n",
        "    print(f\"{k} Cost = {self.MSE(data)}\")"
      ],
      "metadata": {
        "id": "6mASWuveDTrL"
      },
      "execution_count": 50,
      "outputs": []
    },
    {
      "cell_type": "markdown",
      "source": [
        "## stochastic gradient descent strategy vs. mini-batch gradient descent strategy "
      ],
      "metadata": {
        "id": "k5uF1Zo0AqKb"
      }
    },
    {
      "cell_type": "code",
      "source": [
        "net = MultilayerPerceptron(layers = [3072, 60, 60, 10])"
      ],
      "metadata": {
        "id": "otgXIS-3BK52"
      },
      "execution_count": 51,
      "outputs": []
    },
    {
      "cell_type": "code",
      "source": [
        "net.stochastic_gradient_descent(train_data)"
      ],
      "metadata": {
        "id": "y4a-RTURapBC",
        "colab": {
          "base_uri": "https://localhost:8080/"
        },
        "outputId": "a8fc95d8-1837-4f6f-a4f2-6623aa5c07c8"
      },
      "execution_count": 52,
      "outputs": [
        {
          "output_type": "stream",
          "name": "stdout",
          "text": [
            "Initial Cost = 1.3039802952116155\n",
            "2 Cost = 1.1002873201495064e-05\n"
          ]
        }
      ]
    },
    {
      "cell_type": "code",
      "source": [
        "net.mini_batch_gradient_descent(train_data)"
      ],
      "metadata": {
        "colab": {
          "base_uri": "https://localhost:8080/"
        },
        "id": "aQ3jHnWqBKEu",
        "outputId": "0f98641a-9600-4ac4-e8f3-5c57d1e8007f"
      },
      "execution_count": 53,
      "outputs": [
        {
          "output_type": "stream",
          "name": "stdout",
          "text": [
            "Initial Cost = 1.1002873201495064e-05\n",
            "2 Cost = 1.1002873201495064e-05\n"
          ]
        }
      ]
    },
    {
      "cell_type": "code",
      "source": [
        "net.MSE(test_data)"
      ],
      "metadata": {
        "colab": {
          "base_uri": "https://localhost:8080/"
        },
        "id": "cmy2i6NIXfQc",
        "outputId": "aad050f8-7de2-44a2-98cf-612765103841"
      },
      "execution_count": 54,
      "outputs": [
        {
          "output_type": "execute_result",
          "data": {
            "text/plain": [
              "1.0954904804630968e-05"
            ]
          },
          "metadata": {},
          "execution_count": 54
        }
      ]
    },
    {
      "cell_type": "markdown",
      "source": [
        " The mini-batch gradient descent stragety generates smaller cost than the stochastic gradient descent stragety, but it takes longer."
      ],
      "metadata": {
        "id": "LRpvHNoMBrwh"
      }
    },
    {
      "cell_type": "markdown",
      "source": [
        "## Increase nodes in hidden layers\n",
        "setup 120 nodes for both hidden layers, and then make a comparison.\n",
        "\n"
      ],
      "metadata": {
        "id": "DvJsR5mMXubB"
      }
    },
    {
      "cell_type": "code",
      "source": [
        "net = MultilayerPerceptron(layers = [3072, 120, 120, 10])"
      ],
      "metadata": {
        "id": "b19Y0_ZoYMCU"
      },
      "execution_count": 55,
      "outputs": []
    },
    {
      "cell_type": "code",
      "source": [
        "net.stochastic_gradient_descent(train_data)"
      ],
      "metadata": {
        "colab": {
          "base_uri": "https://localhost:8080/"
        },
        "id": "V27QXzp7YBxz",
        "outputId": "e9e2ee40-34cf-4ae8-af71-b28307fde37e"
      },
      "execution_count": 56,
      "outputs": [
        {
          "output_type": "stream",
          "name": "stdout",
          "text": [
            "Initial Cost = 1.5197036747668118\n",
            "2 Cost = 5.884029933829305e-06\n"
          ]
        }
      ]
    },
    {
      "cell_type": "code",
      "source": [
        "net.mini_batch_gradient_descent(train_data)"
      ],
      "metadata": {
        "colab": {
          "base_uri": "https://localhost:8080/"
        },
        "id": "8lBU_1NtYCm7",
        "outputId": "929dc7c9-fd64-43eb-873a-6415c36e76c8"
      },
      "execution_count": 57,
      "outputs": [
        {
          "output_type": "stream",
          "name": "stdout",
          "text": [
            "Initial Cost = 5.884029933829305e-06\n",
            "2 Cost = 5.884029933829305e-06\n"
          ]
        }
      ]
    },
    {
      "cell_type": "code",
      "source": [
        "net.MSE(test_data)"
      ],
      "metadata": {
        "colab": {
          "base_uri": "https://localhost:8080/"
        },
        "id": "VGVVpUbRYHcT",
        "outputId": "6af9615d-ef74-4589-c154-2d9bbebf540a"
      },
      "execution_count": 58,
      "outputs": [
        {
          "output_type": "execute_result",
          "data": {
            "text/plain": [
              "5.834653831432273e-06"
            ]
          },
          "metadata": {},
          "execution_count": 58
        }
      ]
    },
    {
      "cell_type": "markdown",
      "source": [
        "When the number of nodes in the hidden layers is increased, the overall cost gets smaller than before. "
      ],
      "metadata": {
        "id": "llIFsg9hfSgG"
      }
    },
    {
      "cell_type": "markdown",
      "source": [
        "## Reference\n",
        "Patrikar, S. (2019, October 1). Batch, Mini Batch & Stochastic Gradient Descent | By Sushant Patrikar | Towards Data Science. Medium. https://towardsdatascience.com/batch-mini-batch-stochastic-gradient-descent-7a62ecba642a.\n",
        "\n",
        "S. (2017, December 8). Neural Network Tutorial - Artificial Intelligence | Deep Learning | Edureka. Edureka. https://www.edureka.co/blog/neural-network-tutorial/."
      ],
      "metadata": {
        "id": "aPIu7uIM-JBN"
      }
    }
  ]
}